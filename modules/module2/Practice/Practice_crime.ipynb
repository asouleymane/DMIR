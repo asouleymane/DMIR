{
 "cells": [
  {
   "cell_type": "markdown",
   "metadata": {},
   "source": [
    "# Module 2 Practice  - Minneapolis crime data\n",
    "\n",
    "The dataset used in the notebook (curtesy of Open Data Minneapolis) includes information about 311 calls and crimes committed between 2010 to 2016. \n",
    "\n",
    "We will use the data to do some association rule mining for finding frequent patterns. Read the data from /dsa/data/DSA-8630/minneapolis_crimedata/crimes.csv"
   ]
  },
  {
   "cell_type": "code",
   "execution_count": 1,
   "metadata": {
    "collapsed": false
   },
   "outputs": [],
   "source": [
    "crimes_data = read.csv('/dsa/data/DSA-8630/minneapolis_crimedata/crimes.csv')\n"
   ]
  },
  {
   "cell_type": "code",
   "execution_count": 2,
   "metadata": {
    "collapsed": false
   },
   "outputs": [
    {
     "data": {
      "text/html": [
       "<table>\n",
       "<thead><tr><th scope=col>publicaddress</th><th scope=col>controlnbr</th><th scope=col>CCN</th><th scope=col>Precinct</th><th scope=col>ReportedDate</th><th scope=col>BeginDate</th><th scope=col>Time</th><th scope=col>Offense</th><th scope=col>Description</th><th scope=col>UCRCode</th><th scope=col>EnteredDate</th><th scope=col>Long</th><th scope=col>Lat</th><th scope=col>x</th><th scope=col>y</th><th scope=col>Neighborhood</th><th scope=col>lastchanged</th><th scope=col>LastUpdateDate</th><th scope=col>OBJECTID</th><th scope=col>ESRI_OID</th></tr></thead>\n",
       "<tbody>\n",
       "\t<tr><td>0029XX Chicago AV S     </td><td>2001                    </td><td>MP 2010 049740          </td><td>3                       </td><td>2010-02-22T13:40:00.000Z</td><td>2010-02-22T13:22:00.000Z</td><td>13:22:00                </td><td>SHOPLF                  </td><td>Shoplifting             </td><td>7                       </td><td>2010-02-22T13:37:48.000Z</td><td>-93.26305               </td><td>44.94899                </td><td>531143.9                </td><td>157587.0                </td><td>PHILLIPS WEST           </td><td>2010-02-22T18:51:39.000Z</td><td>2015-09-21T14:16:59.000Z</td><td>NA                      </td><td>NA                      </td></tr>\n",
       "\t<tr><td>0049XX Queen AV N       </td><td>2002                    </td><td>MP 2010 999144          </td><td>4                       </td><td>2010-02-22T13:38:15.000Z</td><td>2010-02-21T08:00:00.000Z</td><td>08:00:00                </td><td>TFMV                    </td><td>Theft From Motr Vehc    </td><td>7                       </td><td>2010-02-22T13:38:15.000Z</td><td>-93.31088               </td><td>45.04451                </td><td>518728.3                </td><td>192399.9                </td><td>SHINGLE CREEK           </td><td>2010-02-22T13:38:22.000Z</td><td>2015-09-21T14:16:59.000Z</td><td>NA                      </td><td>NA                      </td></tr>\n",
       "</tbody>\n",
       "</table>\n"
      ],
      "text/latex": [
       "\\begin{tabular}{r|llllllllllllllllllll}\n",
       " publicaddress & controlnbr & CCN & Precinct & ReportedDate & BeginDate & Time & Offense & Description & UCRCode & EnteredDate & Long & Lat & x & y & Neighborhood & lastchanged & LastUpdateDate & OBJECTID & ESRI\\_OID\\\\\n",
       "\\hline\n",
       "\t 0029XX Chicago AV S      & 2001                     & MP 2010 049740           & 3                        & 2010-02-22T13:40:00.000Z & 2010-02-22T13:22:00.000Z & 13:22:00                 & SHOPLF                   & Shoplifting              & 7                        & 2010-02-22T13:37:48.000Z & -93.26305                & 44.94899                 & 531143.9                 & 157587.0                 & PHILLIPS WEST            & 2010-02-22T18:51:39.000Z & 2015-09-21T14:16:59.000Z & NA                       & NA                      \\\\\n",
       "\t 0049XX Queen AV N        & 2002                     & MP 2010 999144           & 4                        & 2010-02-22T13:38:15.000Z & 2010-02-21T08:00:00.000Z & 08:00:00                 & TFMV                     & Theft From Motr Vehc     & 7                        & 2010-02-22T13:38:15.000Z & -93.31088                & 45.04451                 & 518728.3                 & 192399.9                 & SHINGLE CREEK            & 2010-02-22T13:38:22.000Z & 2015-09-21T14:16:59.000Z & NA                       & NA                      \\\\\n",
       "\\end{tabular}\n"
      ],
      "text/plain": [
       "  publicaddress       controlnbr CCN            Precinct\n",
       "1 0029XX Chicago AV S 2001       MP 2010 049740 3       \n",
       "2 0049XX Queen AV N   2002       MP 2010 999144 4       \n",
       "  ReportedDate             BeginDate                Time     Offense\n",
       "1 2010-02-22T13:40:00.000Z 2010-02-22T13:22:00.000Z 13:22:00 SHOPLF \n",
       "2 2010-02-22T13:38:15.000Z 2010-02-21T08:00:00.000Z 08:00:00 TFMV   \n",
       "  Description          UCRCode EnteredDate              Long      Lat     \n",
       "1 Shoplifting          7       2010-02-22T13:37:48.000Z -93.26305 44.94899\n",
       "2 Theft From Motr Vehc 7       2010-02-22T13:38:15.000Z -93.31088 45.04451\n",
       "  x        y        Neighborhood  lastchanged             \n",
       "1 531143.9 157587.0 PHILLIPS WEST 2010-02-22T18:51:39.000Z\n",
       "2 518728.3 192399.9 SHINGLE CREEK 2010-02-22T13:38:22.000Z\n",
       "  LastUpdateDate           OBJECTID ESRI_OID\n",
       "1 2015-09-21T14:16:59.000Z NA       NA      \n",
       "2 2015-09-21T14:16:59.000Z NA       NA      "
      ]
     },
     "metadata": {},
     "output_type": "display_data"
    }
   ],
   "source": [
    "head(crimes_data,2)"
   ]
  },
  {
   "cell_type": "code",
   "execution_count": 3,
   "metadata": {
    "collapsed": false,
    "scrolled": true
   },
   "outputs": [
    {
     "data": {
      "text/html": [
       "<ol class=list-inline>\n",
       "\t<li>136121</li>\n",
       "\t<li>20</li>\n",
       "</ol>\n"
      ],
      "text/latex": [
       "\\begin{enumerate*}\n",
       "\\item 136121\n",
       "\\item 20\n",
       "\\end{enumerate*}\n"
      ],
      "text/markdown": [
       "1. 136121\n",
       "2. 20\n",
       "\n",
       "\n"
      ],
      "text/plain": [
       "[1] 136121     20"
      ]
     },
     "metadata": {},
     "output_type": "display_data"
    }
   ],
   "source": [
    "dim(crimes_data)"
   ]
  },
  {
   "cell_type": "markdown",
   "metadata": {},
   "source": [
    "The columns \n",
    "- `controlnbr`\n",
    "- `CCN`\n",
    "- `Time`\n",
    "- `ReportedDate`\n",
    "- `Offense`\n",
    "- `UCRCode`\n",
    "- `EnteredDate`\n",
    "- `x`\n",
    "- `y`\n",
    "- `lastchanged`\n",
    "- `LastUpdateDate`\n",
    "- `OBJECTID`\n",
    "- `ESRI_OID` \n",
    "\n",
    "are not helpful or interpretable anyway. So lets just delete them from dataset."
   ]
  },
  {
   "cell_type": "markdown",
   "metadata": {},
   "source": [
    "**Activity 1: ** Remove the columns listed avove from dataframe. "
   ]
  },
  {
   "cell_type": "code",
   "execution_count": 7,
   "metadata": {
    "collapsed": false
   },
   "outputs": [
    {
     "data": {
      "text/html": [
       "<table>\n",
       "<thead><tr><th scope=col>publicaddress</th><th scope=col>Precinct</th><th scope=col>BeginDate</th><th scope=col>Description</th><th scope=col>Long</th><th scope=col>Lat</th><th scope=col>Neighborhood</th></tr></thead>\n",
       "<tbody>\n",
       "\t<tr><td>0029XX Chicago AV S             </td><td>3                               </td><td>2010-02-22T13:22:00.000Z        </td><td>Shoplifting                     </td><td>-93.26305                       </td><td>44.94899                        </td><td>PHILLIPS WEST                   </td></tr>\n",
       "\t<tr><td>0049XX Queen AV N               </td><td>4                               </td><td>2010-02-21T08:00:00.000Z        </td><td>Theft From Motr Vehc            </td><td>-93.31088                       </td><td>45.04451                        </td><td>SHINGLE CREEK                   </td></tr>\n",
       "\t<tr><td>0003XX 16 AV SE                 </td><td>2                               </td><td>2010-02-19T23:20:00.000Z        </td><td>Other Theft                     </td><td>-93.23383                       </td><td>44.97865                        </td><td>UNIVERSITY OF MINNESOTA         </td></tr>\n",
       "\t<tr><td>0016XX University AV SE         </td><td>2                               </td><td>2010-02-20T23:00:00.000Z        </td><td>Theft From Building             </td><td>-93.23349                       </td><td>44.97851                        </td><td>UNIVERSITY OF MINNESOTA         </td></tr>\n",
       "\t<tr><td>00003X 9 ST S                   </td><td>1                               </td><td>2010-02-21T16:00:00.000Z        </td><td>Other Theft                     </td><td>-93.27551                       </td><td>44.97586                        </td><td>DOWNTOWN WEST                   </td></tr>\n",
       "\t<tr><td>0003XX Washington AV SE         </td><td>2                               </td><td>2010-02-22T08:30:00.000Z        </td><td>Other Theft                     </td><td>-93.23431                       </td><td>44.97320                        </td><td>UNIVERSITY OF MINNESOTA         </td></tr>\n",
       "\t<tr><td>0055XX 28 AV S                  </td><td>3                               </td><td>2010-02-10T12:00:00.000Z        </td><td>Other Theft                     </td><td>-93.23197                       </td><td>44.90199                        </td><td>WENONAH                         </td></tr>\n",
       "\t<tr><td>0008XX 5 ST SE                  </td><td>2                               </td><td>2010-02-21T01:30:00.000Z        </td><td>Crim Sex Cond-rape              </td><td>-93.24335                       </td><td>44.98459                        </td><td>MARCY HOLMES                    </td></tr>\n",
       "\t<tr><td>0051XX Camden AV N              </td><td>4                               </td><td>2010-02-22T11:00:00.000Z        </td><td>Burglary Of Dwelling            </td><td>-93.28930                       </td><td>45.04896                        </td><td>LIND - BOHANON                  </td></tr>\n",
       "\t<tr><td>0023XX Lake ST E                </td><td>3                               </td><td>2010-02-22T11:30:00.000Z        </td><td>Theft From Person               </td><td>-93.23870                       </td><td>44.94850                        </td><td>EAST PHILLIPS                   </td></tr>\n",
       "\t<tr><td>0033XX Fremont AV S             </td><td>5                               </td><td>2010-02-22T10:00:00.000Z        </td><td>Burglary Of Dwelling            </td><td>-93.29617                       </td><td>44.94192                        </td><td>CARAG                           </td></tr>\n",
       "\t<tr><td>0007XX Nicollet Mall            </td><td>1                               </td><td>2010-02-22T15:47:00.000Z        </td><td>Shoplifting                     </td><td>-93.27293                       </td><td>44.97668                        </td><td>DOWNTOWN WEST                   </td></tr>\n",
       "\t<tr><td>0007XX Hennepin AV S            </td><td>1                               </td><td>2010-02-20T01:30:00.000Z        </td><td>Other Theft                     </td><td>-93.27553                       </td><td>44.97799                        </td><td>DOWNTOWN WEST                   </td></tr>\n",
       "\t<tr><td>0038XX Garfield AV S            </td><td>5                               </td><td>2010-02-21T10:00:00.000Z        </td><td>Burglary Of Dwelling            </td><td>-93.28731                       </td><td>44.93240                        </td><td>KING FIELD                      </td></tr>\n",
       "\t<tr><td>0057XX Harriet AV S             </td><td>5                               </td><td>2010-02-19T18:34:00.000Z        </td><td>Burglary Of Dwelling            </td><td>-93.28610                       </td><td>44.89846                        </td><td>WINDOM                          </td></tr>\n",
       "\t<tr><td>0029XX 14 AV S                  </td><td>3                               </td><td>2010-02-19T08:00:00.000Z        </td><td>Motor Vehicle Theft             </td><td>-93.25469                       </td><td>44.94921                        </td><td>MIDTOWN PHILLIPS                </td></tr>\n",
       "\t<tr><td>0011XX Marquette AV S           </td><td>1                               </td><td>2010-02-22T08:00:00.000Z        </td><td>Theft From Motr Vehc            </td><td>-93.27368                       </td><td>44.97172                        </td><td>DOWNTOWN WEST                   </td></tr>\n",
       "\t<tr><td>0010XX 25 AV SE                 </td><td>2                               </td><td>2010-02-20T00:00:00.000Z        </td><td>Other Theft                     </td><td>-93.21797                       </td><td>44.99037                        </td><td>COMO                            </td></tr>\n",
       "\t<tr><td>0005XX 4 AV S                   </td><td>1                               </td><td>2010-02-22T09:00:00.000Z        </td><td>Theft From Motr Vehc            </td><td>-93.26520                       </td><td>44.97586                        </td><td>DOWNTOWN WEST                   </td></tr>\n",
       "\t<tr><td>0044XX Minnehaha AV S           </td><td>3                               </td><td>2010-02-22T14:30:00.000Z        </td><td>Burglary Of Dwelling            </td><td>-93.21706                       </td><td>44.92290                        </td><td>HIAWATHA                        </td></tr>\n",
       "\t<tr><td>17 AV S / 34 ST E               </td><td>3                               </td><td>2010-02-22T17:00:00.000Z        </td><td>Motor Vehicle Theft             </td><td>-93.24991                       </td><td>44.94134                        </td><td>POWDERHORN PARK                 </td></tr>\n",
       "\t<tr><td>0051XX 39 AV S                  </td><td>3                               </td><td>2010-02-22T08:00:00.000Z        </td><td>Burglary Of Dwelling            </td><td>-93.21611                       </td><td>44.91007                        </td><td>MINNEHAHA                       </td></tr>\n",
       "\t<tr><td>5 AV N / Bryant AV N            </td><td>4                               </td><td>2010-02-22T05:30:00.000Z        </td><td>Motor Vehicle Theft             </td><td>-93.29083                       </td><td>44.98276                        </td><td>SUMNER - GLENWOOD               </td></tr>\n",
       "\t<tr><td>0031XX 23 AV S                  </td><td>3                               </td><td>2010-02-22T21:08:00.000Z        </td><td>Robbery Of Business             </td><td>-93.23942                       </td><td>44.94611                        </td><td>CORCORAN                        </td></tr>\n",
       "\t<tr><td>University AV SE / Hennepin AV E</td><td>2                               </td><td>2010-02-19T08:00:00.000Z        </td><td>Theft From Motr Vehc            </td><td>-93.25638                       </td><td>44.98797                        </td><td>NICOLLET ISLAND - EAST BANK     </td></tr>\n",
       "\t<tr><td>0007XX 7 ST S                   </td><td>1                               </td><td>2010-02-22T20:10:00.000Z        </td><td>Aslt-police/emerg P             </td><td>-93.26212                       </td><td>44.97244                        </td><td>ELLIOT PARK                     </td></tr>\n",
       "\t<tr><td>0022XX Riverside AV             </td><td>1                               </td><td>2010-02-22T18:30:00.000Z        </td><td>Domestic Assault/Strangulation  </td><td>-93.24083                       </td><td>44.96733                        </td><td>CEDAR RIVERSIDE                 </td></tr>\n",
       "\t<tr><td>0015XX Nicollet AV S            </td><td>1                               </td><td>2010-02-22T21:40:00.000Z        </td><td>Motor Vehicle Theft             </td><td>-93.27711                       </td><td>44.96788                        </td><td>LORING PARK                     </td></tr>\n",
       "\t<tr><td>0027XX Sheridan AV N            </td><td>4                               </td><td>2010-02-22T18:10:00.000Z        </td><td>Burglary Of Dwelling            </td><td>-93.31169                       </td><td>45.00851                        </td><td>JORDAN                          </td></tr>\n",
       "\t<tr><td>32 ST W / Lyndale AV S          </td><td>5                               </td><td>2010-02-19T22:00:00.000Z        </td><td>Theft-motr Veh Parts            </td><td>-93.28814                       </td><td>44.94473                        </td><td>LYNDALE                         </td></tr>\n",
       "\t<tr><td>⋮</td><td>⋮</td><td>⋮</td><td>⋮</td><td>⋮</td><td>⋮</td><td>⋮</td></tr>\n",
       "\t<tr><td>0036XX Aldrich AV N         </td><td>4                           </td><td>2016-01-18T00:00:00.000Z    </td><td>Other Vehicle Theft         </td><td>-93.28893                   </td><td>45.02088                    </td><td>MCKINLEY                    </td></tr>\n",
       "\t<tr><td>0020XX Pillsbury AV S       </td><td>5                           </td><td>2015-06-27T08:41:00.000Z    </td><td>Other Theft                 </td><td>-93.28081                   </td><td>44.96180                    </td><td>WHITTIER                    </td></tr>\n",
       "\t<tr><td>0035XX Polk ST NE           </td><td>2                           </td><td>2016-01-02T00:30:00.000Z    </td><td>Theft By Swindle            </td><td>-93.24494                   </td><td>45.03224                    </td><td>WAITE PARK                  </td></tr>\n",
       "\t<tr><td>36 ST W / Pillsbury AV S    </td><td>5                           </td><td>2016-02-01T23:15:00.000Z    </td><td>Robbery Per Agg             </td><td>-93.28140                   </td><td>44.93772                    </td><td>LYNDALE                     </td></tr>\n",
       "\t<tr><td>0009XX Nicollet Mall        </td><td>1                           </td><td>2016-02-01T13:00:00.000Z    </td><td>Shoplifting                 </td><td>-93.27502                   </td><td>44.97475                    </td><td>DOWNTOWN WEST               </td></tr>\n",
       "\t<tr><td>0057XX Nicollet AV S        </td><td>5                           </td><td>2016-02-02T03:47:00.000Z    </td><td>Robbery Per Agg             </td><td>-93.27846                   </td><td>44.89884                    </td><td>WINDOM                      </td></tr>\n",
       "\t<tr><td>0047XX Cedar AV S           </td><td>3                           </td><td>2016-02-02T04:38:00.000Z    </td><td>Shoplifting                 </td><td>-93.24762                   </td><td>44.91655                    </td><td>NORTHROP                    </td></tr>\n",
       "\t<tr><td>0034XX Nicollet AV S        </td><td>5                           </td><td>2016-02-02T05:41:00.000Z    </td><td>Shoplifting                 </td><td>-93.27752                   </td><td>44.93984                    </td><td>LYNDALE                     </td></tr>\n",
       "\t<tr><td>0020XX Nicollet AV S        </td><td>5                           </td><td>2016-02-02T06:00:00.000Z    </td><td>Motor Vehicle Theft         </td><td>-93.27834                   </td><td>44.96187                    </td><td>WHITTIER                    </td></tr>\n",
       "\t<tr><td>0024XX 38 ST E              </td><td>3                           </td><td>2016-02-02T07:25:00.000Z    </td><td>Robbery Per Agg             </td><td>-93.23688                   </td><td>44.93434                    </td><td>STANDISH                    </td></tr>\n",
       "\t<tr><td>0027XX Grand AV S           </td><td>5                           </td><td>2016-02-02T07:00:00.000Z    </td><td>Motor Vehicle Theft         </td><td>-93.28388                   </td><td>44.95323                    </td><td>WHITTIER                    </td></tr>\n",
       "\t<tr><td>0020XX Garfield AV S        </td><td>5                           </td><td>2016-02-01T23:59:00.000Z    </td><td>Burglary Of Dwelling        </td><td>-93.28709                   </td><td>44.96192                    </td><td>WHITTIER                    </td></tr>\n",
       "\t<tr><td>0009XX Nicollet Mall        </td><td>1                           </td><td>2016-02-02T08:39:00.000Z    </td><td>Other Theft                 </td><td>-93.27502                   </td><td>44.97475                    </td><td>DOWNTOWN WEST               </td></tr>\n",
       "\t<tr><td>0022XX 4 AV N               </td><td>4                           </td><td>2016-02-02T00:00:00.000Z    </td><td>Theft From Motr Vehc        </td><td>-93.30901                   </td><td>44.98134                    </td><td>HARRISON                    </td></tr>\n",
       "\t<tr><td>0027XX 1 AV S               </td><td>5                           </td><td>2016-01-22T17:00:00.000Z    </td><td>Other Theft                 </td><td>-93.27641                   </td><td>44.95347                    </td><td>WHITTIER                    </td></tr>\n",
       "\t<tr><td>0014XX Nicollet AV S        </td><td>1                           </td><td>2016-01-24T03:30:00.000Z    </td><td>Other Theft                 </td><td>-93.27828                   </td><td>44.96825                    </td><td>LORING PARK                 </td></tr>\n",
       "\t<tr><td>0040XX 18 AV S              </td><td>3                           </td><td>2016-02-02T09:32:00.000Z    </td><td>Burglary Of Dwelling        </td><td>-93.24824                   </td><td>44.93032                    </td><td>BANCROFT                    </td></tr>\n",
       "\t<tr><td>0016XX Upton AV N           </td><td>4                           </td><td>2016-02-02T09:45:00.000Z    </td><td>Theft From Motr Vehc        </td><td>-93.31496                   </td><td>44.99574                    </td><td>WILLARD - HAY               </td></tr>\n",
       "\t<tr><td>0026XX Stevens AV S         </td><td>5                           </td><td>2016-02-01T15:30:00.000Z    </td><td>Other Theft                 </td><td>-93.27497                   </td><td>44.95530                    </td><td>WHITTIER                    </td></tr>\n",
       "\t<tr><td>0009XX 5 ST N               </td><td>1                           </td><td>2015-08-31T12:00:00.000Z    </td><td>Theft From Building         </td><td>-93.28347                   </td><td>44.98786                    </td><td>NORTH LOOP                  </td></tr>\n",
       "\t<tr><td>0043XX Lake ST E            </td><td>3                           </td><td>2016-02-02T10:38:00.000Z    </td><td>Shoplifting                 </td><td>-93.21055                   </td><td>44.94864                    </td><td>COOPER                      </td></tr>\n",
       "\t<tr><td>0029XX Chicago AV S         </td><td>3                           </td><td>2016-02-02T12:17:00.000Z    </td><td>Other Theft                 </td><td>-93.25948                   </td><td>44.94933                    </td><td>MIDTOWN PHILLIPS            </td></tr>\n",
       "\t<tr><td>6 AV SE / 7 ST SE           </td><td>2                           </td><td>2016-01-30T00:00:00.000Z    </td><td>Theft From Motr Vehc        </td><td>-93.24454                   </td><td>44.98786                    </td><td>MARCY HOLMES                </td></tr>\n",
       "\t<tr><td>00001X 5 ST S               </td><td>1                           </td><td>2016-01-29T22:23:00.000Z    </td><td>Burglary Of Business        </td><td>-93.27175                   </td><td>44.97941                    </td><td>DOWNTOWN WEST               </td></tr>\n",
       "\t<tr><td>0006XX Broadway AV W        </td><td>4                           </td><td>2016-02-02T13:18:00.000Z    </td><td>Shoplifting                 </td><td>-93.28787                   </td><td>44.99901                    </td><td>NEAR - NORTH                </td></tr>\n",
       "\t<tr><td>00001X 8 ST N               </td><td>1                           </td><td>2016-01-11T00:00:00.000Z    </td><td>Other Theft                 </td><td>-93.27696                   </td><td>44.97750                    </td><td>DOWNTOWN WEST               </td></tr>\n",
       "\t<tr><td>0050XX 6 ST N               </td><td>4                           </td><td>2016-01-27T13:47:00.000Z    </td><td>Other Theft                 </td><td>-93.28728                   </td><td>45.04642                    </td><td>LIND - BOHANON              </td></tr>\n",
       "\t<tr><td>00001X Lake ST W            </td><td>5                           </td><td>2016-02-02T11:40:00.000Z    </td><td>Shoplifting                 </td><td>-93.27776                   </td><td>44.94929                    </td><td>WHITTIER                    </td></tr>\n",
       "\t<tr><td>0002XX 10 ST S              </td><td>1                           </td><td>2015-12-06T10:54:00.000Z    </td><td>Motor Vehicle Theft         </td><td>-93.27165                   </td><td>44.97252                    </td><td>DOWNTOWN WEST               </td></tr>\n",
       "\t<tr><td>Chicago AV S / Franklin AV E</td><td>3                           </td><td>2016-02-01T08:00:00.000Z    </td><td>Other Theft                 </td><td>-93.26256                   </td><td>44.96271                    </td><td>VENTURA VILLAGE             </td></tr>\n",
       "</tbody>\n",
       "</table>\n"
      ],
      "text/latex": [
       "\\begin{tabular}{r|lllllll}\n",
       " publicaddress & Precinct & BeginDate & Description & Long & Lat & Neighborhood\\\\\n",
       "\\hline\n",
       "\t 0029XX Chicago AV S              & 3                                & 2010-02-22T13:22:00.000Z         & Shoplifting                      & -93.26305                        & 44.94899                         & PHILLIPS WEST                   \\\\\n",
       "\t 0049XX Queen AV N                & 4                                & 2010-02-21T08:00:00.000Z         & Theft From Motr Vehc             & -93.31088                        & 45.04451                         & SHINGLE CREEK                   \\\\\n",
       "\t 0003XX 16 AV SE                  & 2                                & 2010-02-19T23:20:00.000Z         & Other Theft                      & -93.23383                        & 44.97865                         & UNIVERSITY OF MINNESOTA         \\\\\n",
       "\t 0016XX University AV SE          & 2                                & 2010-02-20T23:00:00.000Z         & Theft From Building              & -93.23349                        & 44.97851                         & UNIVERSITY OF MINNESOTA         \\\\\n",
       "\t 00003X 9 ST S                    & 1                                & 2010-02-21T16:00:00.000Z         & Other Theft                      & -93.27551                        & 44.97586                         & DOWNTOWN WEST                   \\\\\n",
       "\t 0003XX Washington AV SE          & 2                                & 2010-02-22T08:30:00.000Z         & Other Theft                      & -93.23431                        & 44.97320                         & UNIVERSITY OF MINNESOTA         \\\\\n",
       "\t 0055XX 28 AV S                   & 3                                & 2010-02-10T12:00:00.000Z         & Other Theft                      & -93.23197                        & 44.90199                         & WENONAH                         \\\\\n",
       "\t 0008XX 5 ST SE                   & 2                                & 2010-02-21T01:30:00.000Z         & Crim Sex Cond-rape               & -93.24335                        & 44.98459                         & MARCY HOLMES                    \\\\\n",
       "\t 0051XX Camden AV N               & 4                                & 2010-02-22T11:00:00.000Z         & Burglary Of Dwelling             & -93.28930                        & 45.04896                         & LIND - BOHANON                  \\\\\n",
       "\t 0023XX Lake ST E                 & 3                                & 2010-02-22T11:30:00.000Z         & Theft From Person                & -93.23870                        & 44.94850                         & EAST PHILLIPS                   \\\\\n",
       "\t 0033XX Fremont AV S              & 5                                & 2010-02-22T10:00:00.000Z         & Burglary Of Dwelling             & -93.29617                        & 44.94192                         & CARAG                           \\\\\n",
       "\t 0007XX Nicollet Mall             & 1                                & 2010-02-22T15:47:00.000Z         & Shoplifting                      & -93.27293                        & 44.97668                         & DOWNTOWN WEST                   \\\\\n",
       "\t 0007XX Hennepin AV S             & 1                                & 2010-02-20T01:30:00.000Z         & Other Theft                      & -93.27553                        & 44.97799                         & DOWNTOWN WEST                   \\\\\n",
       "\t 0038XX Garfield AV S             & 5                                & 2010-02-21T10:00:00.000Z         & Burglary Of Dwelling             & -93.28731                        & 44.93240                         & KING FIELD                      \\\\\n",
       "\t 0057XX Harriet AV S              & 5                                & 2010-02-19T18:34:00.000Z         & Burglary Of Dwelling             & -93.28610                        & 44.89846                         & WINDOM                          \\\\\n",
       "\t 0029XX 14 AV S                   & 3                                & 2010-02-19T08:00:00.000Z         & Motor Vehicle Theft              & -93.25469                        & 44.94921                         & MIDTOWN PHILLIPS                \\\\\n",
       "\t 0011XX Marquette AV S            & 1                                & 2010-02-22T08:00:00.000Z         & Theft From Motr Vehc             & -93.27368                        & 44.97172                         & DOWNTOWN WEST                   \\\\\n",
       "\t 0010XX 25 AV SE                  & 2                                & 2010-02-20T00:00:00.000Z         & Other Theft                      & -93.21797                        & 44.99037                         & COMO                            \\\\\n",
       "\t 0005XX 4 AV S                    & 1                                & 2010-02-22T09:00:00.000Z         & Theft From Motr Vehc             & -93.26520                        & 44.97586                         & DOWNTOWN WEST                   \\\\\n",
       "\t 0044XX Minnehaha AV S            & 3                                & 2010-02-22T14:30:00.000Z         & Burglary Of Dwelling             & -93.21706                        & 44.92290                         & HIAWATHA                        \\\\\n",
       "\t 17 AV S / 34 ST E                & 3                                & 2010-02-22T17:00:00.000Z         & Motor Vehicle Theft              & -93.24991                        & 44.94134                         & POWDERHORN PARK                 \\\\\n",
       "\t 0051XX 39 AV S                   & 3                                & 2010-02-22T08:00:00.000Z         & Burglary Of Dwelling             & -93.21611                        & 44.91007                         & MINNEHAHA                       \\\\\n",
       "\t 5 AV N / Bryant AV N             & 4                                & 2010-02-22T05:30:00.000Z         & Motor Vehicle Theft              & -93.29083                        & 44.98276                         & SUMNER - GLENWOOD               \\\\\n",
       "\t 0031XX 23 AV S                   & 3                                & 2010-02-22T21:08:00.000Z         & Robbery Of Business              & -93.23942                        & 44.94611                         & CORCORAN                        \\\\\n",
       "\t University AV SE / Hennepin AV E & 2                                & 2010-02-19T08:00:00.000Z         & Theft From Motr Vehc             & -93.25638                        & 44.98797                         & NICOLLET ISLAND - EAST BANK     \\\\\n",
       "\t 0007XX 7 ST S                    & 1                                & 2010-02-22T20:10:00.000Z         & Aslt-police/emerg P              & -93.26212                        & 44.97244                         & ELLIOT PARK                     \\\\\n",
       "\t 0022XX Riverside AV              & 1                                & 2010-02-22T18:30:00.000Z         & Domestic Assault/Strangulation   & -93.24083                        & 44.96733                         & CEDAR RIVERSIDE                 \\\\\n",
       "\t 0015XX Nicollet AV S             & 1                                & 2010-02-22T21:40:00.000Z         & Motor Vehicle Theft              & -93.27711                        & 44.96788                         & LORING PARK                     \\\\\n",
       "\t 0027XX Sheridan AV N             & 4                                & 2010-02-22T18:10:00.000Z         & Burglary Of Dwelling             & -93.31169                        & 45.00851                         & JORDAN                          \\\\\n",
       "\t 32 ST W / Lyndale AV S           & 5                                & 2010-02-19T22:00:00.000Z         & Theft-motr Veh Parts             & -93.28814                        & 44.94473                         & LYNDALE                         \\\\\n",
       "\t ⋮ & ⋮ & ⋮ & ⋮ & ⋮ & ⋮ & ⋮\\\\\n",
       "\t 0036XX Aldrich AV N          & 4                            & 2016-01-18T00:00:00.000Z     & Other Vehicle Theft          & -93.28893                    & 45.02088                     & MCKINLEY                    \\\\\n",
       "\t 0020XX Pillsbury AV S        & 5                            & 2015-06-27T08:41:00.000Z     & Other Theft                  & -93.28081                    & 44.96180                     & WHITTIER                    \\\\\n",
       "\t 0035XX Polk ST NE            & 2                            & 2016-01-02T00:30:00.000Z     & Theft By Swindle             & -93.24494                    & 45.03224                     & WAITE PARK                  \\\\\n",
       "\t 36 ST W / Pillsbury AV S     & 5                            & 2016-02-01T23:15:00.000Z     & Robbery Per Agg              & -93.28140                    & 44.93772                     & LYNDALE                     \\\\\n",
       "\t 0009XX Nicollet Mall         & 1                            & 2016-02-01T13:00:00.000Z     & Shoplifting                  & -93.27502                    & 44.97475                     & DOWNTOWN WEST               \\\\\n",
       "\t 0057XX Nicollet AV S         & 5                            & 2016-02-02T03:47:00.000Z     & Robbery Per Agg              & -93.27846                    & 44.89884                     & WINDOM                      \\\\\n",
       "\t 0047XX Cedar AV S            & 3                            & 2016-02-02T04:38:00.000Z     & Shoplifting                  & -93.24762                    & 44.91655                     & NORTHROP                    \\\\\n",
       "\t 0034XX Nicollet AV S         & 5                            & 2016-02-02T05:41:00.000Z     & Shoplifting                  & -93.27752                    & 44.93984                     & LYNDALE                     \\\\\n",
       "\t 0020XX Nicollet AV S         & 5                            & 2016-02-02T06:00:00.000Z     & Motor Vehicle Theft          & -93.27834                    & 44.96187                     & WHITTIER                    \\\\\n",
       "\t 0024XX 38 ST E               & 3                            & 2016-02-02T07:25:00.000Z     & Robbery Per Agg              & -93.23688                    & 44.93434                     & STANDISH                    \\\\\n",
       "\t 0027XX Grand AV S            & 5                            & 2016-02-02T07:00:00.000Z     & Motor Vehicle Theft          & -93.28388                    & 44.95323                     & WHITTIER                    \\\\\n",
       "\t 0020XX Garfield AV S         & 5                            & 2016-02-01T23:59:00.000Z     & Burglary Of Dwelling         & -93.28709                    & 44.96192                     & WHITTIER                    \\\\\n",
       "\t 0009XX Nicollet Mall         & 1                            & 2016-02-02T08:39:00.000Z     & Other Theft                  & -93.27502                    & 44.97475                     & DOWNTOWN WEST               \\\\\n",
       "\t 0022XX 4 AV N                & 4                            & 2016-02-02T00:00:00.000Z     & Theft From Motr Vehc         & -93.30901                    & 44.98134                     & HARRISON                    \\\\\n",
       "\t 0027XX 1 AV S                & 5                            & 2016-01-22T17:00:00.000Z     & Other Theft                  & -93.27641                    & 44.95347                     & WHITTIER                    \\\\\n",
       "\t 0014XX Nicollet AV S         & 1                            & 2016-01-24T03:30:00.000Z     & Other Theft                  & -93.27828                    & 44.96825                     & LORING PARK                 \\\\\n",
       "\t 0040XX 18 AV S               & 3                            & 2016-02-02T09:32:00.000Z     & Burglary Of Dwelling         & -93.24824                    & 44.93032                     & BANCROFT                    \\\\\n",
       "\t 0016XX Upton AV N            & 4                            & 2016-02-02T09:45:00.000Z     & Theft From Motr Vehc         & -93.31496                    & 44.99574                     & WILLARD - HAY               \\\\\n",
       "\t 0026XX Stevens AV S          & 5                            & 2016-02-01T15:30:00.000Z     & Other Theft                  & -93.27497                    & 44.95530                     & WHITTIER                    \\\\\n",
       "\t 0009XX 5 ST N                & 1                            & 2015-08-31T12:00:00.000Z     & Theft From Building          & -93.28347                    & 44.98786                     & NORTH LOOP                  \\\\\n",
       "\t 0043XX Lake ST E             & 3                            & 2016-02-02T10:38:00.000Z     & Shoplifting                  & -93.21055                    & 44.94864                     & COOPER                      \\\\\n",
       "\t 0029XX Chicago AV S          & 3                            & 2016-02-02T12:17:00.000Z     & Other Theft                  & -93.25948                    & 44.94933                     & MIDTOWN PHILLIPS            \\\\\n",
       "\t 6 AV SE / 7 ST SE            & 2                            & 2016-01-30T00:00:00.000Z     & Theft From Motr Vehc         & -93.24454                    & 44.98786                     & MARCY HOLMES                \\\\\n",
       "\t 00001X 5 ST S                & 1                            & 2016-01-29T22:23:00.000Z     & Burglary Of Business         & -93.27175                    & 44.97941                     & DOWNTOWN WEST               \\\\\n",
       "\t 0006XX Broadway AV W         & 4                            & 2016-02-02T13:18:00.000Z     & Shoplifting                  & -93.28787                    & 44.99901                     & NEAR - NORTH                \\\\\n",
       "\t 00001X 8 ST N                & 1                            & 2016-01-11T00:00:00.000Z     & Other Theft                  & -93.27696                    & 44.97750                     & DOWNTOWN WEST               \\\\\n",
       "\t 0050XX 6 ST N                & 4                            & 2016-01-27T13:47:00.000Z     & Other Theft                  & -93.28728                    & 45.04642                     & LIND - BOHANON              \\\\\n",
       "\t 00001X Lake ST W             & 5                            & 2016-02-02T11:40:00.000Z     & Shoplifting                  & -93.27776                    & 44.94929                     & WHITTIER                    \\\\\n",
       "\t 0002XX 10 ST S               & 1                            & 2015-12-06T10:54:00.000Z     & Motor Vehicle Theft          & -93.27165                    & 44.97252                     & DOWNTOWN WEST               \\\\\n",
       "\t Chicago AV S / Franklin AV E & 3                            & 2016-02-01T08:00:00.000Z     & Other Theft                  & -93.26256                    & 44.96271                     & VENTURA VILLAGE             \\\\\n",
       "\\end{tabular}\n"
      ],
      "text/plain": [
       "       publicaddress                    Precinct BeginDate               \n",
       "1      0029XX Chicago AV S              3        2010-02-22T13:22:00.000Z\n",
       "2      0049XX Queen AV N                4        2010-02-21T08:00:00.000Z\n",
       "3      0003XX 16 AV SE                  2        2010-02-19T23:20:00.000Z\n",
       "4      0016XX University AV SE          2        2010-02-20T23:00:00.000Z\n",
       "5      00003X 9 ST S                    1        2010-02-21T16:00:00.000Z\n",
       "6      0003XX Washington AV SE          2        2010-02-22T08:30:00.000Z\n",
       "7      0055XX 28 AV S                   3        2010-02-10T12:00:00.000Z\n",
       "8      0008XX 5 ST SE                   2        2010-02-21T01:30:00.000Z\n",
       "9      0051XX Camden AV N               4        2010-02-22T11:00:00.000Z\n",
       "10     0023XX Lake ST E                 3        2010-02-22T11:30:00.000Z\n",
       "11     0033XX Fremont AV S              5        2010-02-22T10:00:00.000Z\n",
       "12     0007XX Nicollet Mall             1        2010-02-22T15:47:00.000Z\n",
       "13     0007XX Hennepin AV S             1        2010-02-20T01:30:00.000Z\n",
       "14     0038XX Garfield AV S             5        2010-02-21T10:00:00.000Z\n",
       "15     0057XX Harriet AV S              5        2010-02-19T18:34:00.000Z\n",
       "16     0029XX 14 AV S                   3        2010-02-19T08:00:00.000Z\n",
       "17     0011XX Marquette AV S            1        2010-02-22T08:00:00.000Z\n",
       "18     0010XX 25 AV SE                  2        2010-02-20T00:00:00.000Z\n",
       "19     0005XX 4 AV S                    1        2010-02-22T09:00:00.000Z\n",
       "20     0044XX Minnehaha AV S            3        2010-02-22T14:30:00.000Z\n",
       "21     17 AV S / 34 ST E                3        2010-02-22T17:00:00.000Z\n",
       "22     0051XX 39 AV S                   3        2010-02-22T08:00:00.000Z\n",
       "23     5 AV N / Bryant AV N             4        2010-02-22T05:30:00.000Z\n",
       "24     0031XX 23 AV S                   3        2010-02-22T21:08:00.000Z\n",
       "25     University AV SE / Hennepin AV E 2        2010-02-19T08:00:00.000Z\n",
       "26     0007XX 7 ST S                    1        2010-02-22T20:10:00.000Z\n",
       "27     0022XX Riverside AV              1        2010-02-22T18:30:00.000Z\n",
       "28     0015XX Nicollet AV S             1        2010-02-22T21:40:00.000Z\n",
       "29     0027XX Sheridan AV N             4        2010-02-22T18:10:00.000Z\n",
       "30     32 ST W / Lyndale AV S           5        2010-02-19T22:00:00.000Z\n",
       "⋮      ⋮                                ⋮        ⋮                       \n",
       "136092 0036XX Aldrich AV N              4        2016-01-18T00:00:00.000Z\n",
       "136093 0020XX Pillsbury AV S            5        2015-06-27T08:41:00.000Z\n",
       "136094 0035XX Polk ST NE                2        2016-01-02T00:30:00.000Z\n",
       "136095 36 ST W / Pillsbury AV S         5        2016-02-01T23:15:00.000Z\n",
       "136096 0009XX Nicollet Mall             1        2016-02-01T13:00:00.000Z\n",
       "136097 0057XX Nicollet AV S             5        2016-02-02T03:47:00.000Z\n",
       "136098 0047XX Cedar AV S                3        2016-02-02T04:38:00.000Z\n",
       "136099 0034XX Nicollet AV S             5        2016-02-02T05:41:00.000Z\n",
       "136100 0020XX Nicollet AV S             5        2016-02-02T06:00:00.000Z\n",
       "136101 0024XX 38 ST E                   3        2016-02-02T07:25:00.000Z\n",
       "136102 0027XX Grand AV S                5        2016-02-02T07:00:00.000Z\n",
       "136103 0020XX Garfield AV S             5        2016-02-01T23:59:00.000Z\n",
       "136104 0009XX Nicollet Mall             1        2016-02-02T08:39:00.000Z\n",
       "136105 0022XX 4 AV N                    4        2016-02-02T00:00:00.000Z\n",
       "136106 0027XX 1 AV S                    5        2016-01-22T17:00:00.000Z\n",
       "136107 0014XX Nicollet AV S             1        2016-01-24T03:30:00.000Z\n",
       "136108 0040XX 18 AV S                   3        2016-02-02T09:32:00.000Z\n",
       "136109 0016XX Upton AV N                4        2016-02-02T09:45:00.000Z\n",
       "136110 0026XX Stevens AV S              5        2016-02-01T15:30:00.000Z\n",
       "136111 0009XX 5 ST N                    1        2015-08-31T12:00:00.000Z\n",
       "136112 0043XX Lake ST E                 3        2016-02-02T10:38:00.000Z\n",
       "136113 0029XX Chicago AV S              3        2016-02-02T12:17:00.000Z\n",
       "136114 6 AV SE / 7 ST SE                2        2016-01-30T00:00:00.000Z\n",
       "136115 00001X 5 ST S                    1        2016-01-29T22:23:00.000Z\n",
       "136116 0006XX Broadway AV W             4        2016-02-02T13:18:00.000Z\n",
       "136117 00001X 8 ST N                    1        2016-01-11T00:00:00.000Z\n",
       "136118 0050XX 6 ST N                    4        2016-01-27T13:47:00.000Z\n",
       "136119 00001X Lake ST W                 5        2016-02-02T11:40:00.000Z\n",
       "136120 0002XX 10 ST S                   1        2015-12-06T10:54:00.000Z\n",
       "136121 Chicago AV S / Franklin AV E     3        2016-02-01T08:00:00.000Z\n",
       "       Description                    Long      Lat     \n",
       "1      Shoplifting                    -93.26305 44.94899\n",
       "2      Theft From Motr Vehc           -93.31088 45.04451\n",
       "3      Other Theft                    -93.23383 44.97865\n",
       "4      Theft From Building            -93.23349 44.97851\n",
       "5      Other Theft                    -93.27551 44.97586\n",
       "6      Other Theft                    -93.23431 44.97320\n",
       "7      Other Theft                    -93.23197 44.90199\n",
       "8      Crim Sex Cond-rape             -93.24335 44.98459\n",
       "9      Burglary Of Dwelling           -93.28930 45.04896\n",
       "10     Theft From Person              -93.23870 44.94850\n",
       "11     Burglary Of Dwelling           -93.29617 44.94192\n",
       "12     Shoplifting                    -93.27293 44.97668\n",
       "13     Other Theft                    -93.27553 44.97799\n",
       "14     Burglary Of Dwelling           -93.28731 44.93240\n",
       "15     Burglary Of Dwelling           -93.28610 44.89846\n",
       "16     Motor Vehicle Theft            -93.25469 44.94921\n",
       "17     Theft From Motr Vehc           -93.27368 44.97172\n",
       "18     Other Theft                    -93.21797 44.99037\n",
       "19     Theft From Motr Vehc           -93.26520 44.97586\n",
       "20     Burglary Of Dwelling           -93.21706 44.92290\n",
       "21     Motor Vehicle Theft            -93.24991 44.94134\n",
       "22     Burglary Of Dwelling           -93.21611 44.91007\n",
       "23     Motor Vehicle Theft            -93.29083 44.98276\n",
       "24     Robbery Of Business            -93.23942 44.94611\n",
       "25     Theft From Motr Vehc           -93.25638 44.98797\n",
       "26     Aslt-police/emerg P            -93.26212 44.97244\n",
       "27     Domestic Assault/Strangulation -93.24083 44.96733\n",
       "28     Motor Vehicle Theft            -93.27711 44.96788\n",
       "29     Burglary Of Dwelling           -93.31169 45.00851\n",
       "30     Theft-motr Veh Parts           -93.28814 44.94473\n",
       "⋮      ⋮                              ⋮         ⋮       \n",
       "136092 Other Vehicle Theft            -93.28893 45.02088\n",
       "136093 Other Theft                    -93.28081 44.96180\n",
       "136094 Theft By Swindle               -93.24494 45.03224\n",
       "136095 Robbery Per Agg                -93.28140 44.93772\n",
       "136096 Shoplifting                    -93.27502 44.97475\n",
       "136097 Robbery Per Agg                -93.27846 44.89884\n",
       "136098 Shoplifting                    -93.24762 44.91655\n",
       "136099 Shoplifting                    -93.27752 44.93984\n",
       "136100 Motor Vehicle Theft            -93.27834 44.96187\n",
       "136101 Robbery Per Agg                -93.23688 44.93434\n",
       "136102 Motor Vehicle Theft            -93.28388 44.95323\n",
       "136103 Burglary Of Dwelling           -93.28709 44.96192\n",
       "136104 Other Theft                    -93.27502 44.97475\n",
       "136105 Theft From Motr Vehc           -93.30901 44.98134\n",
       "136106 Other Theft                    -93.27641 44.95347\n",
       "136107 Other Theft                    -93.27828 44.96825\n",
       "136108 Burglary Of Dwelling           -93.24824 44.93032\n",
       "136109 Theft From Motr Vehc           -93.31496 44.99574\n",
       "136110 Other Theft                    -93.27497 44.95530\n",
       "136111 Theft From Building            -93.28347 44.98786\n",
       "136112 Shoplifting                    -93.21055 44.94864\n",
       "136113 Other Theft                    -93.25948 44.94933\n",
       "136114 Theft From Motr Vehc           -93.24454 44.98786\n",
       "136115 Burglary Of Business           -93.27175 44.97941\n",
       "136116 Shoplifting                    -93.28787 44.99901\n",
       "136117 Other Theft                    -93.27696 44.97750\n",
       "136118 Other Theft                    -93.28728 45.04642\n",
       "136119 Shoplifting                    -93.27776 44.94929\n",
       "136120 Motor Vehicle Theft            -93.27165 44.97252\n",
       "136121 Other Theft                    -93.26256 44.96271\n",
       "       Neighborhood               \n",
       "1      PHILLIPS WEST              \n",
       "2      SHINGLE CREEK              \n",
       "3      UNIVERSITY OF MINNESOTA    \n",
       "4      UNIVERSITY OF MINNESOTA    \n",
       "5      DOWNTOWN WEST              \n",
       "6      UNIVERSITY OF MINNESOTA    \n",
       "7      WENONAH                    \n",
       "8      MARCY HOLMES               \n",
       "9      LIND - BOHANON             \n",
       "10     EAST PHILLIPS              \n",
       "11     CARAG                      \n",
       "12     DOWNTOWN WEST              \n",
       "13     DOWNTOWN WEST              \n",
       "14     KING FIELD                 \n",
       "15     WINDOM                     \n",
       "16     MIDTOWN PHILLIPS           \n",
       "17     DOWNTOWN WEST              \n",
       "18     COMO                       \n",
       "19     DOWNTOWN WEST              \n",
       "20     HIAWATHA                   \n",
       "21     POWDERHORN PARK            \n",
       "22     MINNEHAHA                  \n",
       "23     SUMNER - GLENWOOD          \n",
       "24     CORCORAN                   \n",
       "25     NICOLLET ISLAND - EAST BANK\n",
       "26     ELLIOT PARK                \n",
       "27     CEDAR RIVERSIDE            \n",
       "28     LORING PARK                \n",
       "29     JORDAN                     \n",
       "30     LYNDALE                    \n",
       "⋮      ⋮                          \n",
       "136092 MCKINLEY                   \n",
       "136093 WHITTIER                   \n",
       "136094 WAITE PARK                 \n",
       "136095 LYNDALE                    \n",
       "136096 DOWNTOWN WEST              \n",
       "136097 WINDOM                     \n",
       "136098 NORTHROP                   \n",
       "136099 LYNDALE                    \n",
       "136100 WHITTIER                   \n",
       "136101 STANDISH                   \n",
       "136102 WHITTIER                   \n",
       "136103 WHITTIER                   \n",
       "136104 DOWNTOWN WEST              \n",
       "136105 HARRISON                   \n",
       "136106 WHITTIER                   \n",
       "136107 LORING PARK                \n",
       "136108 BANCROFT                   \n",
       "136109 WILLARD - HAY              \n",
       "136110 WHITTIER                   \n",
       "136111 NORTH LOOP                 \n",
       "136112 COOPER                     \n",
       "136113 MIDTOWN PHILLIPS           \n",
       "136114 MARCY HOLMES               \n",
       "136115 DOWNTOWN WEST              \n",
       "136116 NEAR - NORTH               \n",
       "136117 DOWNTOWN WEST              \n",
       "136118 LIND - BOHANON             \n",
       "136119 WHITTIER                   \n",
       "136120 DOWNTOWN WEST              \n",
       "136121 VENTURA VILLAGE            "
      ]
     },
     "metadata": {},
     "output_type": "display_data"
    }
   ],
   "source": [
    "# Your code for activity 1 goes here..\n",
    "crimes_data[,c(\"controlnbr\",\"CCN\",\"Time\",\"ReportedDate\",\"Offense\",\"UCRCode\",\"EnteredDate\",\"x\",\"y\",\"lastchanged\", \"LastUpdateDate\",\"OBJECTID\",\"ESRI_OID\")]<-NULL\n",
    "crimes_data"
   ]
  },
  {
   "cell_type": "markdown",
   "metadata": {},
   "source": [
    "**Activity 2: ** The BeginDate columnis of type factor. Convert its type to POSIXlt using strptime() function,. Also, replace the character \"T\" in the column with a white space \" \". \n",
    "\n",
    "We are trying to format the date and time values appropriately using strptime() function."
   ]
  },
  {
   "cell_type": "code",
   "execution_count": 14,
   "metadata": {
    "collapsed": false
   },
   "outputs": [],
   "source": [
    "# Your code for activity 2 goes here..\n",
    "#crimes_data[[\"BeginDate\"]].astype\n",
    "\n",
    "crimes_data$BeginDate = strptime(sub(\"T\",\" \", crimes_data$BeginDate), format = \"%Y-%m-%d %X\") "
   ]
  },
  {
   "cell_type": "markdown",
   "metadata": {},
   "source": [
    "The first 6 characters in address doesn't make any sense. \n",
    "\n",
    "**Activity 3: ** Strip the first 7 characters or extract rest of the characters from the publicaddress column."
   ]
  },
  {
   "cell_type": "code",
   "execution_count": null,
   "metadata": {
    "collapsed": false
   },
   "outputs": [],
   "source": [
    "# Your code for activity 3 goes here..\n",
    "\n"
   ]
  },
  {
   "cell_type": "markdown",
   "metadata": {},
   "source": [
    "**Activity 4:** Extract the date from BeginDate column and stored it as a new column called date. "
   ]
  },
  {
   "cell_type": "code",
   "execution_count": null,
   "metadata": {
    "collapsed": false
   },
   "outputs": [],
   "source": [
    "# Your code for activity 4 goes here..\n",
    "\n"
   ]
  },
  {
   "cell_type": "code",
   "execution_count": null,
   "metadata": {
    "collapsed": false
   },
   "outputs": [],
   "source": [
    "class(crimes_data$date)"
   ]
  },
  {
   "cell_type": "markdown",
   "metadata": {},
   "source": [
    "**Activity 5:** Extract weekday from date and hour from from BeginDate column and stored them as new columns called weekday and hour respectively. "
   ]
  },
  {
   "cell_type": "code",
   "execution_count": null,
   "metadata": {
    "collapsed": true
   },
   "outputs": [],
   "source": [
    "# Your code for activity 5 goes here..\n",
    "\n"
   ]
  },
  {
   "cell_type": "markdown",
   "metadata": {},
   "source": [
    "We dont need the BeginDate column any more. So lets just delete it from dataframe."
   ]
  },
  {
   "cell_type": "code",
   "execution_count": null,
   "metadata": {
    "collapsed": false
   },
   "outputs": [],
   "source": []
  },
  {
   "cell_type": "markdown",
   "metadata": {},
   "source": [
    "Convert the hour variable into an ordered factor with levels \"mid night\", \"morning\", \"noon\",\"night\" for different hours of the day. "
   ]
  },
  {
   "cell_type": "code",
   "execution_count": null,
   "metadata": {
    "collapsed": false
   },
   "outputs": [],
   "source": []
  },
  {
   "cell_type": "markdown",
   "metadata": {
    "collapsed": false
   },
   "source": [
    "**Activity 6: ** Convert the columns \"publicaddress\", \"Precinct\", \"weekday\", \"date\" into factor type. "
   ]
  },
  {
   "cell_type": "code",
   "execution_count": null,
   "metadata": {
    "collapsed": false
   },
   "outputs": [],
   "source": [
    "# Your code for activity 6 goes here..\n",
    "\n"
   ]
  },
  {
   "cell_type": "markdown",
   "metadata": {},
   "source": [
    "**Activity 7: ** Now, coerce the data set into transactions. Save this transactions to crimes_trans variable."
   ]
  },
  {
   "cell_type": "code",
   "execution_count": null,
   "metadata": {
    "collapsed": false
   },
   "outputs": [],
   "source": [
    "# Your code for activity 7 goes here..\n",
    "\n"
   ]
  },
  {
   "cell_type": "markdown",
   "metadata": {},
   "source": [
    "**Activity 8: ** Generate association rules for the transactions in crimes_trans with support of 0.01 and confidence of 0.6"
   ]
  },
  {
   "cell_type": "code",
   "execution_count": null,
   "metadata": {
    "collapsed": false
   },
   "outputs": [],
   "source": [
    "# Your code for activity 8 goes here..\n",
    "\n"
   ]
  },
  {
   "cell_type": "markdown",
   "metadata": {},
   "source": [
    "**Activity 9: ** Display the generated rules using inspect(). "
   ]
  },
  {
   "cell_type": "code",
   "execution_count": null,
   "metadata": {
    "collapsed": false
   },
   "outputs": [],
   "source": [
    "# Your code for activity 9 goes here..\n",
    "\n"
   ]
  }
 ],
 "metadata": {
  "kernelspec": {
   "display_name": "R",
   "language": "R",
   "name": "ir"
  },
  "language_info": {
   "codemirror_mode": "r",
   "file_extension": ".r",
   "mimetype": "text/x-r-source",
   "name": "R",
   "pygments_lexer": "r",
   "version": "3.3.2"
  }
 },
 "nbformat": 4,
 "nbformat_minor": 2
}
