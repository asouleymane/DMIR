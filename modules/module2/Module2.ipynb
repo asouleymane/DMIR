{
 "cells": [
  {
   "cell_type": "markdown",
   "metadata": {},
   "source": [
    "# Module 2 : Association rule and frequent pattern mining\n",
    "\n",
    "\n",
    "## Topics covered\n",
    "\n",
    "\n",
    "* Apriori Algorithm\n",
    "* Maximal vs Closed Itemsets\n",
    "* Interestness Measures\n",
    "* Association Rule Mining\n",
    "    * Preprocess data\n",
    "    * Handling Categorical Attributes\n",
    "    * Handling Continous Attributes\n",
    "\n",
    "\n",
    "## Readings\n",
    "The following is the suggested reading for above topic.\n",
    "\n",
    "- [Basic association analysis](./Resources/Basic_association_analysis.pdf)\n",
    "- [Extended association analysis.pdf](./Resources/Extended_association_analysis.pdf) "
   ]
  },
  {
   "cell_type": "markdown",
   "metadata": {},
   "source": [
    "## Video topics\n",
    "  - **Concept Video**: Association rule and frequent pattern mining\n",
    "  \n",
    "  \n",
    "## Labs\n",
    "  - [Association_Rule_Mining.ipynb](./labs/Association_Rules_and_Frequent_Pattern_Mining.ipynb)\n",
    "  - [Visualizing_Association_Rules.ipynb](./labs/Visualizing_Association_Rules.ipynb)\n",
    "  \n",
    "\n",
    "## Practice Examples  \n",
    "  - [Practice_crime.ipynb](./Practice/Practice_crime.ipynb)\n",
    "  - [Practice_Glass](./Practice/Practice_Glass.ipynb)\n",
    "  \n",
    "\n",
    "## Exercises\n",
    "  - [Exercises_Auto_Sales](./exercises/Exercises_Auto_Sales.ipynb)"
   ]
  },
  {
   "cell_type": "markdown",
   "metadata": {},
   "source": [
    "## Data Sets\n",
    "Path: `../../datasets/`\n",
    "\n",
    "Dataset Name                 | File\n",
    "-----------------------------|------------\n",
    "glass                        |glass.txt\n",
    "\n",
    "                 \n",
    "Path: `/dsa/data/DSA-8630/`\n",
    "\n",
    "Dataset Name                 | File\n",
    "-----------------------------|------------\n",
    "                             |autos.csv\n",
    "minneapolis_crimedata        |minneapolis_crimedata/crimes.csv\n",
    "\n",
    "\n",
    "## Suggested Schedule\n",
    "\n",
    "### Monday\n",
    "  - **Concept Video**:  Association rule and frequent pattern mining\n",
    "   \n",
    "  - **Lab Notebooks**: \n",
    "     1. Association_Rule_Mining\n",
    "     1. Visualizing_Association_Rules\n",
    "     \n",
    "     \n",
    "  - **Practice Notebooks**: \n",
    "     1. Practice_crime\n",
    "     2. Practice_Glass\n",
    "\n",
    "\n",
    "### Wednesday\n",
    "  - Discussion Association Rule and Frequent Pattern Mining\n",
    "\n",
    "### Thursday\n",
    "  - Discussion Responses\n",
    "\n",
    "### Friday\n",
    "  - **Exercise**: Exercises"
   ]
  }
 ],
 "metadata": {
  "kernelspec": {
   "display_name": "Python 3",
   "language": "python",
   "name": "python3"
  },
  "language_info": {
   "codemirror_mode": {
    "name": "ipython",
    "version": 3
   },
   "file_extension": ".py",
   "mimetype": "text/x-python",
   "name": "python",
   "nbconvert_exporter": "python",
   "pygments_lexer": "ipython3",
   "version": "3.4.5"
  }
 },
 "nbformat": 4,
 "nbformat_minor": 1
}
