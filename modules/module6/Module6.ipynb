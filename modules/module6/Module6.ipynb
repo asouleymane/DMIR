{
 "cells": [
  {
   "cell_type": "markdown",
   "metadata": {},
   "source": [
    "# Module 5: Basic Information Retrieval\n",
    "\n",
    "\n",
    "\n",
    "## Topics covered\n",
    "\n",
    "  * Term Frequency Inverse Document Frequency\n",
    "  * Topic Modelling\n",
    "\n",
    "\n",
    "## Readings\n",
    "\n",
    "\n",
    "  * [TF IDF](http://www.tfidf.com/)\n",
    "  * [TF IDF wiki](https://en.wikipedia.org/wiki/Tf–idf)\n",
    "  * [Topic Modelling](http://www.kdnuggets.com/2016/07/text-mining-101-topic-modeling.html)"
   ]
  },
  {
   "cell_type": "markdown",
   "metadata": {},
   "source": [
    "## Video topics\n",
    "  * **Concept Video**: Advanced Vector Models\n",
    "  \n",
    "  \n",
    "## Labs\n",
    "  * [Text Search TF_IDF](./labs/Text_Search_TFIDF.ipynb)\n",
    "  * [Topic Modelling](./labs/Topic_modelling.ipynb)\n",
    "  \n",
    "\n",
    "## Practices\n",
    "  * [Text_Search_TFIDF_Practice](./practices/Text_Search_TFIDF_Practice.ipynb)\n",
    "  * [Topic Modelling Practice](./practices/Topic_Modelling_Practice.ipynb)\n"
   ]
  },
  {
   "cell_type": "markdown",
   "metadata": {},
   "source": [
    "## Data Sets\n",
    "Path: `/dsa/data/DSA-8630/`\n",
    "\n",
    "Dataset Name                 | File\n",
    "-----------------------------|------------\n",
    "???                     |???\n",
    "\n",
    "\n",
    "\n",
    "## Suggested Schedule\n",
    "\n",
    "### Monday\n",
    "  - **Concept Video**:  \n",
    "   \n",
    "   \n",
    "  - **Lab Notebooks**: \n",
    "     \n",
    "  \n",
    "  \n",
    "  \n",
    "\n",
    "### Wednesday\n",
    "  \n",
    "   \n",
    "\n",
    "\n",
    "### Friday\n",
    "   \n",
    "\n",
    "\n",
    "### Next Wednesday \n",
    "\n",
    "   \n"
   ]
  },
  {
   "cell_type": "code",
   "execution_count": null,
   "metadata": {
    "collapsed": true
   },
   "outputs": [],
   "source": []
  }
 ],
 "metadata": {
  "kernelspec": {
   "display_name": "Python 3",
   "language": "python",
   "name": "python3"
  },
  "language_info": {
   "codemirror_mode": {
    "name": "ipython",
    "version": 3
   },
   "file_extension": ".py",
   "mimetype": "text/x-python",
   "name": "python",
   "nbconvert_exporter": "python",
   "pygments_lexer": "ipython3",
   "version": "3.4.5"
  }
 },
 "nbformat": 4,
 "nbformat_minor": 1
}
