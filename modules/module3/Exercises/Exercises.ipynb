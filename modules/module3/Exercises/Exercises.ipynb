{
 "cells": [
  {
   "cell_type": "markdown",
   "metadata": {},
   "source": [
    "## Module 3 Clustering Exercises\n",
    "\n",
    "Market segmentation is a strategy that divides a broad target market of customers into smaller, more similar groups, and then designs a marketing strategy specifically for each group. Clustering is a common technique for market segmentation since it automatically finds similar groups given a data set.\n",
    "\n",
    "In this notebook, we'll see how clustering can be used to find similar groups of customers who belong to an airline's frequent flyer program. The airline is trying to learn more about its customers so that it can target different customer segments with different types of mileage offers.\n",
    "\n",
    "We will be focusing on Hierarchical clustering to find clusters of data. Most of the exercises are similar to what we have in labs and practices while some of them might be a bit challenging. Explore the web to find the commands needed to perform few exercises. Exercises uses the file AirlinesCluster.csv that contains information on 3,999 members of the frequent flyer program. The data comes from the textbook \"Data Mining for Business Intelligence,\" by Galit Shmueli, Nitin R. Patel, and Peter C. Bruce.\n",
    "\n",
    "There are seven different variables in the dataset, as described below:\n",
    "\n",
    "- Balance = number of miles eligible for award travel\n",
    "- QualMiles = number of miles qualifying for TopFlight status\n",
    "- BonusMiles = number of miles earned from non-flight bonus transactions in the past 12 months\n",
    "- BonusTrans = number of non-flight bonus transactions in the past 12 months\n",
    "- FlightMiles = number of flight miles in the past 12 months\n",
    "- FlightTrans = number of flight transactions in the past 12 months\n",
    "- DaysSinceEnroll = number of days since enrolled in the frequent flyer program"
   ]
  },
  {
   "cell_type": "code",
   "execution_count": null,
   "metadata": {
    "collapsed": false
   },
   "outputs": [],
   "source": [
    "import numpy as np\n",
    "import pandas as pd\n",
    "from sklearn import cluster\n",
    "from matplotlib import pyplot\n",
    "from sklearn.decomposition import PCA\n",
    "from sklearn.preprocessing import StandardScaler\n",
    "import scipy.cluster.hierarchy as hca\n",
    "from sklearn.cluster import DBSCAN\n",
    "from sklearn.cluster import KMeans\n",
    "import matplotlib.pyplot as plt\n",
    "from pylab import *\n",
    "\n",
    "%matplotlib inline"
   ]
  },
  {
   "cell_type": "code",
   "execution_count": null,
   "metadata": {
    "collapsed": false
   },
   "outputs": [],
   "source": [
    "airlines_data = pd.read_csv(\"/dsa/data/DSA-8630/AirlinesCluster.csv\")\n",
    "airlines_data[:4]"
   ]
  },
  {
   "cell_type": "code",
   "execution_count": null,
   "metadata": {
    "collapsed": false
   },
   "outputs": [],
   "source": [
    "airlines_data.shape"
   ]
  },
  {
   "cell_type": "markdown",
   "metadata": {},
   "source": [
    "#### Normalize the data\n",
    "\n",
    "Why is it important to normalize the data before clustering?\n",
    "\n",
    "- If we don't normalize the data, the variables that are on a larger scale will contribute much more to the distance calculation, and thus will dominate the clustering.\n",
    "\n",
    "\n",
    "**Activity 1: ** Create a normalized data frame called \"airlinesNorm\" using StandardScaler() function"
   ]
  },
  {
   "cell_type": "code",
   "execution_count": null,
   "metadata": {
    "collapsed": true
   },
   "outputs": [],
   "source": [
    "# Your code for activity 1 goes here...\n",
    "\n",
    "stscaler = StandardScaler()<what goes in here>\n",
    "airlinesNorm = stscaler<what goes in here>"
   ]
  },
  {
   "cell_type": "markdown",
   "metadata": {},
   "source": [
    "**Activity 2: ** Compute the distances between data points (using euclidean distance) and then run the Hierarchical clustering algorithm (using method=\"ward\") on the normalized data"
   ]
  },
  {
   "cell_type": "code",
   "execution_count": null,
   "metadata": {
    "collapsed": true
   },
   "outputs": [],
   "source": [
    "# Your code for activity 2 goes here...\n",
    "\n",
    "link_matrix=<what goes in here>"
   ]
  },
  {
   "cell_type": "markdown",
   "metadata": {},
   "source": [
    "**Activity 3: ** Plot the dendogram"
   ]
  },
  {
   "cell_type": "code",
   "execution_count": null,
   "metadata": {
    "collapsed": false
   },
   "outputs": [],
   "source": [
    "# Your code for activity 3 goes here...\n",
    "\n"
   ]
  },
  {
   "cell_type": "markdown",
   "metadata": {},
   "source": [
    "### knowing K (number of clusters)\n",
    "\n",
    "**Activity 4: ** Plot the same dendogram again but draw a line on the dendogram to show 5 clusters are formed when performing a cut on dendogram as shown below\n",
    "\n",
    "**Hint: ** Use fig, axes = pyplot.subplots(1, 1, figsize=(10, 10)) to create figure and use axes object to plot a horizontal line\n",
    "<img src=\"../Images/dendogram.PNG\">"
   ]
  },
  {
   "cell_type": "code",
   "execution_count": null,
   "metadata": {
    "collapsed": false
   },
   "outputs": [],
   "source": [
    "# Your code for activity 4 goes here...\n",
    "\n"
   ]
  },
  {
   "cell_type": "markdown",
   "metadata": {},
   "source": [
    "**Activity 5: ** Print the number of samples in each of the 5 clusters"
   ]
  },
  {
   "cell_type": "code",
   "execution_count": null,
   "metadata": {
    "collapsed": false
   },
   "outputs": [],
   "source": [
    "# Your code for activity 5 goes here...\n",
    "\n",
    "from scipy.cluster.hierarchy import fcluster\n"
   ]
  },
  {
   "cell_type": "markdown",
   "metadata": {},
   "source": [
    "**Activity 6: ** Plot the variables BonusMiles on X-axis and BonusTrans on Y-axis with clusters as color reference. use the parameter cmap='prism' to display the colors better."
   ]
  },
  {
   "cell_type": "code",
   "execution_count": null,
   "metadata": {
    "collapsed": false
   },
   "outputs": [],
   "source": [
    "# Your code for activity 6 goes here...\n",
    "\n"
   ]
  },
  {
   "cell_type": "markdown",
   "metadata": {},
   "source": [
    "**Activity 7: ** Create a new column called cluster in airlines_data dataframe using clusters that are generated in activity 5. Group the data according to cluster column and store the result in a variable called grouped. "
   ]
  },
  {
   "cell_type": "code",
   "execution_count": null,
   "metadata": {
    "collapsed": true
   },
   "outputs": [],
   "source": [
    "# Your code for activity 7 goes here...\n",
    "\n"
   ]
  },
  {
   "cell_type": "markdown",
   "metadata": {},
   "source": [
    "**Activity 8: ** Split the airlines data into 5 new dataframes according to the clusters each row is assigned to."
   ]
  },
  {
   "cell_type": "code",
   "execution_count": null,
   "metadata": {
    "collapsed": true
   },
   "outputs": [],
   "source": [
    "# Your code for activity 8 goes here...\n",
    "\n",
    "cluster1 = \n",
    "cluster2 = \n",
    "cluster3 = \n",
    "cluster4 = \n",
    "cluster5 = "
   ]
  },
  {
   "cell_type": "markdown",
   "metadata": {},
   "source": [
    "Creating a list below with the five new clusters formed. "
   ]
  },
  {
   "cell_type": "code",
   "execution_count": null,
   "metadata": {
    "collapsed": false
   },
   "outputs": [],
   "source": [
    "clt = [cluster1, cluster2, cluster3, cluster4, cluster5]"
   ]
  },
  {
   "cell_type": "markdown",
   "metadata": {},
   "source": [
    "**Activity 9: ** Compare the mean values in each of the variables for the 5 clusters. You may want to compute the average values of the unnormalized data(airlines_data) so that it is easier to interpret.\n",
    "\n",
    "**Sample output: **\n",
    "\n",
    "dimensions of cluster:  (48, 8)\n",
    "\n",
    "Balance:  135318\n",
    "\n",
    "QualMiles:  5870\n",
    "\n",
    "BonusMiles:  16406\n",
    "\n",
    "BonusTrans:  13\n",
    "\n",
    "FlightMiles:  975\n",
    "\n",
    "FlightTrans:  3\n",
    "\n",
    "DaysSinceEnroll:  4320\n",
    "\n",
    "cluster:  1"
   ]
  },
  {
   "cell_type": "code",
   "execution_count": null,
   "metadata": {
    "collapsed": false
   },
   "outputs": [],
   "source": [
    "# Supress scientific notation. Output numbers look neat without 10 digit long precision values\n",
    "np.set_printoptions(suppress=True)\n",
    "\n",
    "# Your code for activity 9 goes here...\n",
    "\n"
   ]
  },
  {
   "cell_type": "markdown",
   "metadata": {},
   "source": [
    "**Activity 10: ** Write your conclusions based on the average values for each variable in each cluster. "
   ]
  },
  {
   "cell_type": "markdown",
   "metadata": {},
   "source": [
    "    ` Double click and write your answer here"
   ]
  }
 ],
 "metadata": {
  "kernelspec": {
   "display_name": "Python 3",
   "language": "python",
   "name": "python3"
  },
  "language_info": {
   "codemirror_mode": {
    "name": "ipython",
    "version": 3
   },
   "file_extension": ".py",
   "mimetype": "text/x-python",
   "name": "python",
   "nbconvert_exporter": "python",
   "pygments_lexer": "ipython3",
   "version": "3.4.5"
  }
 },
 "nbformat": 4,
 "nbformat_minor": 0
}
