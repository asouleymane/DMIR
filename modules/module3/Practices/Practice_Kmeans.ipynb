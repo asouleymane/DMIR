{
 "cells": [
  {
   "cell_type": "markdown",
   "metadata": {},
   "source": [
    "# Module 3 Kmeans Practice\n",
    "\n",
    "\n",
    "In this notebook, data on eruptions from famous geyser in Yellowstone Park is used for illustration purpose. It contains only two attributes, waiting time between eruptions (minutes) and length of eruption (minutes). This small dataset with just two attributes will be easier to create a simple k-means cluster model.\n",
    "\n",
    "The activities in this notebook are similar to what you seen in the lab notebook. Most of the activities are either partially complete for you to finish them while some of them might require you to work out the whole code for the activity. "
   ]
  },
  {
   "cell_type": "markdown",
   "metadata": {},
   "source": [
    "Kmeans is a kind of iterative descent algorithm, where you repeatedly find the minimum until it converges. A potential issue with this kind of algorithm is that it is not guaranteed to find the most optimal cluster arrangement, if you pick the wrong starting points. One method for overcoming this is to run the algorithm a number of times with different randomly selected starting points, and then pick the solution that has the lowest total squared Euclidean distance. This approach is used in the scikit-learn package, defaulting to 10 separate repetitions.\n",
    "\n",
    "Scikit-learn uses numpy arrays, so make sure you format your data accordingly."
   ]
  },
  {
   "cell_type": "code",
   "execution_count": null,
   "metadata": {
    "collapsed": true
   },
   "outputs": [],
   "source": [
    "import numpy as np\n",
    "import pandas as pd\n",
    "from sklearn import cluster\n",
    "from matplotlib import pyplot"
   ]
  },
  {
   "cell_type": "code",
   "execution_count": null,
   "metadata": {
    "collapsed": false
   },
   "outputs": [],
   "source": [
    "eruptions = pd.read_csv(\"../../../datasets/eruptions/eruptions.txt\")\n",
    "eruptions[:4]"
   ]
  },
  {
   "cell_type": "markdown",
   "metadata": {},
   "source": [
    "**Activity 1: ** Convert the data \"eruptions\" into an array and save the result in variable called eruptions_data. "
   ]
  },
  {
   "cell_type": "code",
   "execution_count": null,
   "metadata": {
    "collapsed": false
   },
   "outputs": [],
   "source": [
    "# Your code for activity 1 goes here...\n",
    "\n",
    "eruptions_data = <what goes in here>(eruptions)\n",
    "\n",
    "# Print first five rows of data\n",
    "eruptions_data[<what goes in here>]"
   ]
  },
  {
   "cell_type": "markdown",
   "metadata": {},
   "source": [
    "**Activity 2: ** Run the Kmeans algorithm on eruptions_data with two clusters."
   ]
  },
  {
   "cell_type": "code",
   "execution_count": null,
   "metadata": {
    "collapsed": false
   },
   "outputs": [],
   "source": [
    "# Your code for activity 2 goes here...\n",
    "\n",
    "k = 2\n",
    "kmeans = <what goes in here>(n_clusters=<what goes in here>)\n",
    "kmeans.fit(<what goes in here>)"
   ]
  },
  {
   "cell_type": "markdown",
   "metadata": {},
   "source": [
    "Get the locations of the centroids and the label of the owning cluster for each observation in the data set:"
   ]
  },
  {
   "cell_type": "code",
   "execution_count": null,
   "metadata": {
    "collapsed": true
   },
   "outputs": [],
   "source": [
    "labels = kmeans.labels_\n",
    "centroids = kmeans.cluster_centers_"
   ]
  },
  {
   "cell_type": "markdown",
   "metadata": {},
   "source": [
    "**Activity 3: ** PLot the clusters Using these, we can now plot the chosen clusters and their calculated centroids:"
   ]
  },
  {
   "cell_type": "code",
   "execution_count": null,
   "metadata": {
    "collapsed": false
   },
   "outputs": [],
   "source": [
    "# Your code for activity 3 goes here...\n",
    "\n",
    "for i in range(k): # repeat loop n times for n clusters\n",
    "    ds = eruptions_data[np.where(labels==i)] # Get the data for indexes where label is equal to a particular cluster\n",
    "    pyplot.plot(<first column in ds>,<second column in ds>,'o')  \n",
    "    lines = pyplot.plot(<ith centroid x value>,<ith centroid y value>,'kx')\n",
    "    pyplot.setp(lines,ms=15.0)\n",
    "    pyplot.setp(lines,mew=2.0)\n",
    "pyplot.show()"
   ]
  },
  {
   "cell_type": "markdown",
   "metadata": {},
   "source": [
    "Run the Kmeans algorithm on eruptions_data with two clusters."
   ]
  },
  {
   "cell_type": "code",
   "execution_count": null,
   "metadata": {
    "collapsed": true
   },
   "outputs": [],
   "source": [
    "k=6\n",
    "kmeans = cluster.KMeans(n_clusters=k)\n",
    "kmeans.fit(data)\n",
    "\n",
    "labels = kmeans.labels_\n",
    "centroids = kmeans.cluster_centers_"
   ]
  },
  {
   "cell_type": "markdown",
   "metadata": {},
   "source": [
    "**Activity 4: ** PLot the clusters with above generated labels and 6 centroids."
   ]
  },
  {
   "cell_type": "code",
   "execution_count": null,
   "metadata": {
    "collapsed": false
   },
   "outputs": [],
   "source": [
    "# Your code for activity 4 goes here...\n",
    "\n",
    "for i in range(k):\n",
    "    ds = data[<what goes in here>]\n",
    "    pyplot.plot(<first column in ds>,<second column in ds>,'o')  \n",
    "    lines = pyplot.plot(<ith centroid x value>,<ith centroid y value>,'kx')\n",
    "    pyplot.setp(lines,ms=15.0)\n",
    "    pyplot.setp(lines,mew=2.0)\n",
    "pyplot.show()"
   ]
  },
  {
   "cell_type": "markdown",
   "metadata": {},
   "source": [
    "The scikit-learn package also has a function that allows you to get the centroids and labels directly:"
   ]
  },
  {
   "cell_type": "code",
   "execution_count": null,
   "metadata": {
    "collapsed": true
   },
   "outputs": [],
   "source": [
    "k=2\n",
    "from sklearn import cluster\n",
    "centroids,labels,inertia = cluster.k_means(data,n_clusters=k)"
   ]
  },
  {
   "cell_type": "markdown",
   "metadata": {},
   "source": [
    "By using the KMeans object directly we can make predictions on new observations and assign them to clusters. Split the data into a training set and a test set so that K-means clustering can be performed on training set and use the test set to make predictions. A simple way to do a random split of the data is shown below."
   ]
  },
  {
   "cell_type": "code",
   "execution_count": null,
   "metadata": {
    "collapsed": false
   },
   "outputs": [],
   "source": [
    "import numpy as np\n",
    "import numpy.random as npr\n",
    "\n",
    "def split_data(data,train_split=0.8):\n",
    "    num_train = data.shape[0] * train_split\n",
    "    npr.shuffle(data)\n",
    "    \n",
    "    return (data[:num_train],data[num_train:])\n",
    "\n",
    "training_data,test_data = split_data(data)"
   ]
  },
  {
   "cell_type": "markdown",
   "metadata": {},
   "source": [
    "Ignore the warning here. The predictions are then simply calculated:"
   ]
  },
  {
   "cell_type": "code",
   "execution_count": null,
   "metadata": {
    "collapsed": true
   },
   "outputs": [],
   "source": [
    "labels = kmeans.predict(test_data)"
   ]
  },
  {
   "cell_type": "markdown",
   "metadata": {},
   "source": [
    "Plotting the predictions, as before, for 2 clusters"
   ]
  },
  {
   "cell_type": "code",
   "execution_count": null,
   "metadata": {
    "collapsed": false
   },
   "outputs": [],
   "source": [
    "for i in range(k):\n",
    "    ds = test_data[np.where(labels==i)]\n",
    "    pyplot.plot(ds[:,0],ds[:,1],'o')\n",
    "    lines = pyplot.plot(centroids[i,0],centroids[i,1],'kx')\n",
    "    pyplot.setp(lines,ms=15.0)\n",
    "    pyplot.setp(lines,mew=2.0)\n",
    "pyplot.show()"
   ]
  }
 ],
 "metadata": {
  "kernelspec": {
   "display_name": "Python 3",
   "language": "python",
   "name": "python3"
  },
  "language_info": {
   "codemirror_mode": {
    "name": "ipython",
    "version": 3
   },
   "file_extension": ".py",
   "mimetype": "text/x-python",
   "name": "python",
   "nbconvert_exporter": "python",
   "pygments_lexer": "ipython3",
   "version": "3.4.5"
  }
 },
 "nbformat": 4,
 "nbformat_minor": 2
}
