{
 "cells": [
  {
   "cell_type": "markdown",
   "metadata": {},
   "source": [
    "## Module 3 Hierarchical Clustering Practice"
   ]
  },
  {
   "cell_type": "markdown",
   "metadata": {},
   "source": [
    "The activities in this notebook are similar to what you seen in the lab notebook. Most of the activities are either partially complete for you to finish them while some of them might require you to work out the whole code for the activity. \n",
    "\n",
    "Import the modules you will need in the notebook"
   ]
  },
  {
   "cell_type": "code",
   "execution_count": null,
   "metadata": {
    "collapsed": false
   },
   "outputs": [],
   "source": [
    "import scipy.cluster.hierarchy as hca\n",
    "import pandas as pd\n",
    "import numpy as np\n",
    "from pylab import *\n",
    "from matplotlib import pyplot\n",
    "%matplotlib inline\n",
    "\n",
    "from scipy.cluster.hierarchy import cophenet\n",
    "from scipy.spatial.distance import pdist"
   ]
  },
  {
   "cell_type": "code",
   "execution_count": null,
   "metadata": {
    "collapsed": false
   },
   "outputs": [],
   "source": [
    "eruptions_data=pd.read_csv(\"../../../datasets/eruptions/eruptions.txt\")\n",
    "eruptions_data.head(5)"
   ]
  },
  {
   "cell_type": "markdown",
   "metadata": {},
   "source": [
    "**Activity 1: ** Form the linkage matrix using 'ward' method to calculate the distances between the formed clusters."
   ]
  },
  {
   "cell_type": "code",
   "execution_count": null,
   "metadata": {
    "collapsed": true
   },
   "outputs": [],
   "source": [
    "# Your code for activity 1 goes here..\n",
    "\n",
    "# generate the linkage matrix\n",
    "\n",
    "linkage_matrix=hca.linkage(<what goes in here>,metric=<what goes in here>,method=<what goes in here>)"
   ]
  },
  {
   "cell_type": "code",
   "execution_count": null,
   "metadata": {
    "collapsed": false
   },
   "outputs": [],
   "source": [
    "plt.scatter(eruptions_data.iloc[:,0], eruptions_data.iloc[:,1])\n",
    "plt.show()"
   ]
  },
  {
   "cell_type": "markdown",
   "metadata": {},
   "source": [
    "**Activity 2: ** Find the coorrelation between the actual pairwise distances of all data samples to those implied by the hierarchical clustering."
   ]
  },
  {
   "cell_type": "code",
   "execution_count": null,
   "metadata": {
    "collapsed": false
   },
   "outputs": [],
   "source": [
    "# Your code for activity 2 goes here...\n",
    "\n",
    "dist, cop_dist = cophenet(<what goes in here>, <what goes in here>)\n",
    "dist"
   ]
  },
  {
   "cell_type": "markdown",
   "metadata": {},
   "source": [
    "**Activity 3: ** Plot the dendogram using the linkage_matrix"
   ]
  },
  {
   "cell_type": "code",
   "execution_count": null,
   "metadata": {
    "collapsed": false
   },
   "outputs": [],
   "source": [
    "# Your code for activty 3 goes here...\n",
    "\n",
    "plt=<what goes in here>(<what goes in here>,truncate_mode=\"lastp\",p=25)\n",
    "xticks(rotation=90)\n",
    "ylabel(\"Distance\")\n",
    "figtext(0.5,0.95,\"Eruptions Data\",ha=\"center\",fontsize=12)\n",
    "figtext(0.5,0.90,\"Dendrogram (center, euclidean, ward)\",ha=\"center\",fontsize=10)"
   ]
  }
 ],
 "metadata": {
  "kernelspec": {
   "display_name": "Python 3",
   "language": "python",
   "name": "python3"
  },
  "language_info": {
   "codemirror_mode": {
    "name": "ipython",
    "version": 3
   },
   "file_extension": ".py",
   "mimetype": "text/x-python",
   "name": "python",
   "nbconvert_exporter": "python",
   "pygments_lexer": "ipython3",
   "version": "3.4.5"
  }
 },
 "nbformat": 4,
 "nbformat_minor": 0
}
