{
 "cells": [
  {
   "cell_type": "markdown",
   "metadata": {},
   "source": [
    "# Module 2 : Association rule and frequent pattern mining\n",
    "\n",
    "\n",
    "## Topics covered\n",
    "\n",
    "\n",
    "* KMeans\n",
    "* Hierarchical\n",
    "* DBSCAN\n",
    "\n",
    "\n",
    "## Readings\n",
    "The following is the suggested reading for above topic.\n",
    "\n",
    "- [Basic Cluster_Analysis](./Resources/basic_cluster_analysis.pdf)\n",
    "- [Advanced_Cluster_Analysis.pdf](./Resources/Advanced_Cluster_Analysis.pdf) "
   ]
  },
  {
   "cell_type": "markdown",
   "metadata": {},
   "source": [
    "## Video topics\n",
    "  - **Concept Video**: Clustering Techniques\n",
    "  \n",
    "  \n",
    "## Labs\n",
    "  - [KMeans_Clustering.ipynb](./labs/KMeans_Clustering.ipynb)\n",
    "  - [Hierarchical_Clustering.ipynb](./labs/Hierarchical_Clustering.ipynb)\n",
    "  - [DBSCAN_Clustering](./labs/DBSCAN.ipynb)\n",
    "  \n",
    "\n",
    "## Practice Examples  \n",
    "  - [Practice_Kmeans.ipynb](./Practices/Practice_Kmeans.ipynb)\n",
    "  - [Practice_Hierarchical](./Practices/Practice_Hierarchical.ipynb)\n",
    "  - [Practice_DBSCAN](./Practices/Practice_DBSCAN.ipynb)\n",
    "  \n",
    "\n",
    "## Exercises\n",
    "  - [Exercises_Clustering](./Exercises/Exercises_Clustering.ipynb)"
   ]
  },
  {
   "cell_type": "markdown",
   "metadata": {},
   "source": [
    "## Data Sets\n",
    "Path: `../../../datasets/`\n",
    "\n",
    "Dataset Name                 | File\n",
    "-----------------------------|------------\n",
    "eruptions                    |eruptions.txt\n",
    "wholesale                    |Wholesale_customers_data.csv\n",
    "TB                           |tb_deaths_per_100k.csv\n",
    "iris                         |iris.txt\n",
    "\n",
    "\n",
    "\n",
    "## Suggested Schedule\n",
    "\n",
    "### Monday\n",
    "  - **Concept Video**:  Clustering with empahsis on non hyperelipsoid based clustering\n",
    "   \n",
    "  - **Lab Notebooks**: \n",
    "     1. KMeans_Clustering\n",
    "     1. Hierarchical_Clustering\n",
    "     1. DBSCAN_Clustering\n",
    "     \n",
    "     \n",
    "  - **Practice Notebooks**: \n",
    "     1. Practice_Kmeans\n",
    "     1. Practice_Hierarchical\n",
    "     1. Practice_DBSCAN\n",
    "\n",
    "\n",
    "### Wednesday\n",
    "  - Discussion - Different clustering techniques pros and cons and their application areas.  \n",
    "  - Release Practice answers\n",
    "  - **Exercises_Clustering **: Exercises on KMeans, Hierarchical and DBSCAN techniques\n",
    "\n",
    "### Thursday\n",
    "  - Discussion Responses\n",
    "\n",
    "### Friday\n",
    "  - Discussion question responses close"
   ]
  }
 ],
 "metadata": {
  "kernelspec": {
   "display_name": "Python 3",
   "language": "python",
   "name": "python3"
  },
  "language_info": {
   "codemirror_mode": {
    "name": "ipython",
    "version": 3
   },
   "file_extension": ".py",
   "mimetype": "text/x-python",
   "name": "python",
   "nbconvert_exporter": "python",
   "pygments_lexer": "ipython3",
   "version": "3.5.3"
  }
 },
 "nbformat": 4,
 "nbformat_minor": 1
}
