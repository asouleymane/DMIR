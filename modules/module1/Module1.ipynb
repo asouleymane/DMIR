{
 "cells": [
  {
   "cell_type": "markdown",
   "metadata": {},
   "source": [
    "# Module 1: Data Preprocessing / Exploratory Data Analysis\n",
    "\n",
    "\n",
    "## Topics covered\n",
    "\n",
    "\n",
    "* Data Extraction \n",
    "    * Extracting Data from Web\n",
    "    * Parsing Json to Generate CSV Files\n",
    "    * Parsing html to Generate CSV Files\n",
    "* Data Cleaning\n",
    "    * Handling Missing Data\n",
    "    * Outliers\n",
    "    * Aggregation\n",
    "    * Sampling\n",
    "* Data Exploration\n",
    "    * Summary Statistics\n",
    "    * Visualizations\n",
    "\n",
    "\n",
    "## Readings\n",
    "The following is the suggested reading for above topic.\n",
    "\n",
    "- [Intro to Data Mining](./Resources/chap1_intro.pdf)\n",
    "- [Understanding Data](./Resources/chap2_data.pdf) \n",
    "- [Data Exploration](./Resources/chap3_data_exploration.pdf)"
   ]
  },
  {
   "cell_type": "markdown",
   "metadata": {},
   "source": [
    "## Video topics\n",
    "  - **Concept Video**: Intro to Data Mining\n",
    "  \n",
    "  \n",
    "## Labs\n",
    "  - [Data_Cleaning](./labs/Data_Extraction.ipynb)\n",
    "  - [Data_Extraction](./labs/Data_Cleaning.ipynb)\n",
    "  - [Web_Scrapping](./labs/Web_Scrapping.ipynb)\n",
    "     * [How To Inspect Web Pages](../../datasets/AnalyzingHTMLwithTheWebInspector.pdf)\n",
    "\n",
    "\n",
    "## Practice Examples  \n",
    "  - [Web_Scrapping](./practices/Web_Scrapping.ipynb)\n",
    "  \n",
    "\n",
    "## Exercises\n",
    "  - [Exercises](./exercises/Exercises.ipynb)"
   ]
  },
  {
   "cell_type": "markdown",
   "metadata": {},
   "source": [
    "## Data Sets\n",
    "Path: `../../datasets/`\n",
    "\n",
    "Dataset Name                 | File\n",
    "-----------------------------|------------\n",
    "loans                        |chicago_small_loans/loans.txt\n",
    "NYC_leading_causes of death  |NYC/NYC_Causes_of_Death\n",
    "water_consumption            |water-consumption-in-a-median-size-city/AguaH.csv\n",
    "                 \n",
    "\n",
    "\n",
    "## Suggested Schedule\n",
    "\n",
    "### Monday\n",
    "  - **Concept Video**:  Intro to Data Mining\n",
    "   \n",
    "  - **Lab Notebooks**: \n",
    "     1. Data_Cleaning\n",
    "     1. Data_Extraction\n",
    "     1. Web_Scrapping\n",
    "     \n",
    "     \n",
    "  - **Practice Notebooks**: \n",
    "     1. Web_Scrapping\n",
    "\n",
    "\n",
    "### Wednesday\n",
    "  - Discussion Data pre processing and exploration\n",
    "\n",
    "### Thursday\n",
    "  - Discussion Responses\n",
    "\n",
    "### Friday\n",
    "  - **Exercise**: Exercises, WEb_Scrapping Practice answers"
   ]
  }
 ],
 "metadata": {
  "kernelspec": {
   "display_name": "Python 3",
   "language": "python",
   "name": "python3"
  },
  "language_info": {
   "codemirror_mode": {
    "name": "ipython",
    "version": 3
   },
   "file_extension": ".py",
   "mimetype": "text/x-python",
   "name": "python",
   "nbconvert_exporter": "python",
   "pygments_lexer": "ipython3",
   "version": "3.4.5"
  }
 },
 "nbformat": 4,
 "nbformat_minor": 1
}
