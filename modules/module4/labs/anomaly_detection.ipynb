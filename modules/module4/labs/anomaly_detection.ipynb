{
 "cells": [
  {
   "cell_type": "markdown",
   "metadata": {
    "collapsed": false
   },
   "source": [
    "## Module 4 Lab - Anomaly Detection\n",
    "\n",
    "_Anomaly detection (also outlier detection) is the identification of items, events or observations which do not conform to an expected pattern or other items in a dataset - wikipedia.com_\n",
    "\n",
    "Most of the times outliers are a by product of clustering algorithms. Clustering algorithms are not designed to detect outliers but rather to form clusters of data. The accuracy of how well outliers are detected depends on how well clustering algorithms can capture the structures. Sometimes a set of similar abnormal objects are group as a cluster. "
   ]
  },
  {
   "cell_type": "markdown",
   "metadata": {},
   "source": [
    "#### Outliers\n",
    "\n",
    "Outliers are the samples that are exceptionally far from the mainstream of data. There is no rigid mathematical definition of what constitutes an outlier; determining whether or not an observation is an outlier is ultimately a subjective exercise. There are various methods of outlier detection. Some are graphical such as normal probability plots. Others are model-based.\n",
    "\n",
    "There are two main types of outliers, representative and nonrepresentative. A representative outlier is one that is a correct or valid observation that \"cannot be regarded as unique\". While this type of outlier is considered an extreme value, it should be retained, with special treatment during the analysis stages. A nonrepresentative outlier is one that is an \"incorrect observation\" (i.e., due to an error in data entry, coding, or measurement) or is considered unique because there are no other values like it in the population. Nonrepresentative outliers should be corrected or excluded from the analysis.\n",
    "\n",
    "Predictive modeling techniques can be impacted as a result of presence of outliers. Dealing with outliers in data analysis is one of the important challenges. Detecting outliers and understanding them can lead to interesting findings. Outliers can impact accuracy of predictive models. Detecting outliers and dealing with them is a critical step in data preparation for predictive modeling. Below picture shows how an outlier can impact the overall fit of a linear regression model. Lets discuss how PCA technique can be used for detecting outliers in multivariate datasets. \n",
    "\n",
    "<img src=\"../Images/outlier.PNG\">"
   ]
  },
  {
   "cell_type": "markdown",
   "metadata": {},
   "source": [
    "#### Methods to detect outliers:\n",
    "\n",
    "There are several approaches for detecting Outliers. Charu Aggarwal in his book [Outlier Analysis](http://www.charuaggarwal.net/outlierbook.pdf) classifies Outlier detection models in following groups:\n",
    "\n",
    "**Extreme Value Analysis:** This is the most basic form of outlier detection and only good for 1-dimension data. In these types of analysis, it is assumed that values which are too large or too small are outliers. Z-test and Student’s t-test are examples of these statistical methods. These are good heuristics for initial analysis of data but they don’t have much value in multivariate settings. They can be used as final steps for interpreting outputs of other outlier detection methods.\n",
    "\n",
    "**Probabilistic and Statistical Models:** These models assume specific distributions for data. Then using the expectation-maximization(EM) methods they estimate the parameters of the model. Finally, they calculate probability of membership of each data point to calculated distribution. The points with low probability of membership are marked as outliers.\n",
    "\n",
    "**Linear Models:** These methods model the data into a lower dimensional sub-spaces with the use of linear correlations. Then the distance of each data point to plane that fits the sub-space is being calculated. This distance is used to find outliers. PCA(Principal Component Analysis) is an example of linear models for anomaly detection.\n",
    "\n",
    "**Proximity-based Models:** The idea with these methods is to model outliers as points which are isolated from rest of observations. Cluster analysis, density based analysis and nearest neighborhood are main approaches of this kind.\n",
    "\n",
    "**Information Theoretic Models:** The idea of these methods is the fact that outliers increase the minimum code length to describe a data set. High-Dimensional Outlier Detection: Specifc methods to handle high dimensional sparse data"
   ]
  },
  {
   "cell_type": "markdown",
   "metadata": {},
   "source": [
    "#### Outlier Detection Using Principal Component Analysis\n",
    "\n",
    "PCA is a statistical procedure that uses a transformation to convert a set of observations of possibly correlated variables into a set of values of linearly uncorrelated variables called principal components. The number of principal components is less than or equal to the number of original variables. This transformation is defined in such a way that the first principal component has the largest possible variance (that is, accounts for as much of the variability in the data as possible), and each succeeding component in turn has the highest variance possible under the constraint that it is orthogonal to the preceding components. The resulting vectors are an uncorrelated orthogonal basis set.\n",
    "\n",
    "Using PCA we can map our dataset with n-dimension (possibly correlated variables) to a k-dimensional sub-space of k uncorrelated components (k<=n).\n",
    "\n",
    "Below are steps for detecting anomalies using PCA:\n",
    "\n",
    "First we map the data set from its original n-dimensional space to k-dimensional subspace using PCA\n",
    "\n",
    "- Calculate the centroid of data points (μ)\n",
    "- Calculate the variance of each component (λ)\n",
    "- Calculate the score of each data point using below formula:\n",
    "\n",
    "<img src=\"../Images/PCA_formula.png\">\n",
    "\n",
    "- Finally, use extreme value analysis methods to find data points with extreme scores\n",
    "\n",
    "You dont have to worry about applying above formula to calculate scores. PCA is alreday implemented. You just have to call the method to find scores."
   ]
  },
  {
   "cell_type": "code",
   "execution_count": 1,
   "metadata": {
    "collapsed": false
   },
   "outputs": [],
   "source": [
    "# install.packages(\"psych\",dependencies = TRUE, repos = c(CRAN=\"https://cran.r-project.org/\"))\n",
    "library(psych)"
   ]
  },
  {
   "cell_type": "code",
   "execution_count": 2,
   "metadata": {
    "collapsed": false
   },
   "outputs": [
    {
     "name": "stderr",
     "output_type": "stream",
     "text": [
      "\n",
      "Attaching package: ‘ggplot2’\n",
      "\n",
      "The following objects are masked from ‘package:psych’:\n",
      "\n",
      "    %+%, alpha\n",
      "\n"
     ]
    }
   ],
   "source": [
    "# First we load the diamonds dataset\n",
    "library(ggplot2)\n",
    "data(diamonds)"
   ]
  },
  {
   "cell_type": "code",
   "execution_count": 3,
   "metadata": {
    "collapsed": false
   },
   "outputs": [
    {
     "data": {
      "text/html": [
       "<table>\n",
       "<thead><tr><th scope=col>carat</th><th scope=col>cut</th><th scope=col>color</th><th scope=col>clarity</th><th scope=col>depth</th><th scope=col>table</th><th scope=col>price</th><th scope=col>x</th><th scope=col>y</th><th scope=col>z</th></tr></thead>\n",
       "<tbody>\n",
       "\t<tr><td>0.23     </td><td>Ideal    </td><td>E        </td><td>SI2      </td><td>61.5     </td><td>55       </td><td>326      </td><td>3.95     </td><td>3.98     </td><td>2.43     </td></tr>\n",
       "\t<tr><td>0.21     </td><td>Premium  </td><td>E        </td><td>SI1      </td><td>59.8     </td><td>61       </td><td>326      </td><td>3.89     </td><td>3.84     </td><td>2.31     </td></tr>\n",
       "\t<tr><td>0.23     </td><td>Good     </td><td>E        </td><td>VS1      </td><td>56.9     </td><td>65       </td><td>327      </td><td>4.05     </td><td>4.07     </td><td>2.31     </td></tr>\n",
       "\t<tr><td>0.29     </td><td>Premium  </td><td>I        </td><td>VS2      </td><td>62.4     </td><td>58       </td><td>334      </td><td>4.20     </td><td>4.23     </td><td>2.63     </td></tr>\n",
       "\t<tr><td>0.31     </td><td>Good     </td><td>J        </td><td>SI2      </td><td>63.3     </td><td>58       </td><td>335      </td><td>4.34     </td><td>4.35     </td><td>2.75     </td></tr>\n",
       "\t<tr><td>0.24     </td><td>Very Good</td><td>J        </td><td>VVS2     </td><td>62.8     </td><td>57       </td><td>336      </td><td>3.94     </td><td>3.96     </td><td>2.48     </td></tr>\n",
       "</tbody>\n",
       "</table>\n"
      ],
      "text/latex": [
       "\\begin{tabular}{r|llllllllll}\n",
       " carat & cut & color & clarity & depth & table & price & x & y & z\\\\\n",
       "\\hline\n",
       "\t 0.23      & Ideal     & E         & SI2       & 61.5      & 55        & 326       & 3.95      & 3.98      & 2.43     \\\\\n",
       "\t 0.21      & Premium   & E         & SI1       & 59.8      & 61        & 326       & 3.89      & 3.84      & 2.31     \\\\\n",
       "\t 0.23      & Good      & E         & VS1       & 56.9      & 65        & 327       & 4.05      & 4.07      & 2.31     \\\\\n",
       "\t 0.29      & Premium   & I         & VS2       & 62.4      & 58        & 334       & 4.20      & 4.23      & 2.63     \\\\\n",
       "\t 0.31      & Good      & J         & SI2       & 63.3      & 58        & 335       & 4.34      & 4.35      & 2.75     \\\\\n",
       "\t 0.24      & Very Good & J         & VVS2      & 62.8      & 57        & 336       & 3.94      & 3.96      & 2.48     \\\\\n",
       "\\end{tabular}\n"
      ],
      "text/plain": [
       "  carat cut       color clarity depth table price x    y    z   \n",
       "1 0.23  Ideal     E     SI2     61.5  55    326   3.95 3.98 2.43\n",
       "2 0.21  Premium   E     SI1     59.8  61    326   3.89 3.84 2.31\n",
       "3 0.23  Good      E     VS1     56.9  65    327   4.05 4.07 2.31\n",
       "4 0.29  Premium   I     VS2     62.4  58    334   4.20 4.23 2.63\n",
       "5 0.31  Good      J     SI2     63.3  58    335   4.34 4.35 2.75\n",
       "6 0.24  Very Good J     VVS2    62.8  57    336   3.94 3.96 2.48"
      ]
     },
     "metadata": {},
     "output_type": "display_data"
    }
   ],
   "source": [
    "head(diamonds)"
   ]
  },
  {
   "cell_type": "code",
   "execution_count": 3,
   "metadata": {
    "collapsed": true
   },
   "outputs": [],
   "source": [
    "# Run the cell to know more about data\n",
    "help(diamonds)"
   ]
  },
  {
   "cell_type": "code",
   "execution_count": 5,
   "metadata": {
    "collapsed": false
   },
   "outputs": [],
   "source": [
    "# Convert the categorical variables to dummy variables as PCA doesn't run with character type factors. dummy variables \n",
    "# are explained below with example cde.\n",
    "# Use dummy.code from psych package\n",
    "codedData <- cbind(diamonds,dummy.code(diamonds$cut),dummy.code(diamonds$color),dummy.code(diamonds$clarity))"
   ]
  },
  {
   "cell_type": "markdown",
   "metadata": {},
   "source": [
    "**Reference: ** [Dummy coding the data](http://stats.idre.ucla.edu/r/library/r-library-contrast-coding-systems-for-categorical-variables/)\n",
    "\n",
    "Below piece of code illustrates how dummy coding words"
   ]
  },
  {
   "cell_type": "code",
   "execution_count": 4,
   "metadata": {
    "collapsed": false
   },
   "outputs": [
    {
     "data": {
      "text/html": [
       "<table>\n",
       "<thead><tr><th scope=col>strcol</th><th scope=col>dummy_A</th><th scope=col>dummy_B</th><th scope=col>dummy_F</th><th scope=col>dummy_C</th><th scope=col>dummy_G</th><th scope=col>dummy_D</th><th scope=col>dummy_E</th></tr></thead>\n",
       "<tbody>\n",
       "\t<tr><td>A</td><td>1</td><td>0</td><td>0</td><td>0</td><td>0</td><td>0</td><td>0</td></tr>\n",
       "\t<tr><td>A</td><td>1</td><td>0</td><td>0</td><td>0</td><td>0</td><td>0</td><td>0</td></tr>\n",
       "\t<tr><td>B</td><td>0</td><td>1</td><td>0</td><td>0</td><td>0</td><td>0</td><td>0</td></tr>\n",
       "\t<tr><td>F</td><td>0</td><td>0</td><td>1</td><td>0</td><td>0</td><td>0</td><td>0</td></tr>\n",
       "\t<tr><td>C</td><td>0</td><td>0</td><td>0</td><td>1</td><td>0</td><td>0</td><td>0</td></tr>\n",
       "\t<tr><td>G</td><td>0</td><td>0</td><td>0</td><td>0</td><td>1</td><td>0</td><td>0</td></tr>\n",
       "\t<tr><td>C</td><td>0</td><td>0</td><td>0</td><td>1</td><td>0</td><td>0</td><td>0</td></tr>\n",
       "\t<tr><td>D</td><td>0</td><td>0</td><td>0</td><td>0</td><td>0</td><td>1</td><td>0</td></tr>\n",
       "\t<tr><td>E</td><td>0</td><td>0</td><td>0</td><td>0</td><td>0</td><td>0</td><td>1</td></tr>\n",
       "\t<tr><td>F</td><td>0</td><td>0</td><td>1</td><td>0</td><td>0</td><td>0</td><td>0</td></tr>\n",
       "</tbody>\n",
       "</table>\n"
      ],
      "text/latex": [
       "\\begin{tabular}{r|llllllll}\n",
       " strcol & dummy\\_A & dummy\\_B & dummy\\_F & dummy\\_C & dummy\\_G & dummy\\_D & dummy\\_E\\\\\n",
       "\\hline\n",
       "\t A & 1 & 0 & 0 & 0 & 0 & 0 & 0\\\\\n",
       "\t A & 1 & 0 & 0 & 0 & 0 & 0 & 0\\\\\n",
       "\t B & 0 & 1 & 0 & 0 & 0 & 0 & 0\\\\\n",
       "\t F & 0 & 0 & 1 & 0 & 0 & 0 & 0\\\\\n",
       "\t C & 0 & 0 & 0 & 1 & 0 & 0 & 0\\\\\n",
       "\t G & 0 & 0 & 0 & 0 & 1 & 0 & 0\\\\\n",
       "\t C & 0 & 0 & 0 & 1 & 0 & 0 & 0\\\\\n",
       "\t D & 0 & 0 & 0 & 0 & 0 & 1 & 0\\\\\n",
       "\t E & 0 & 0 & 0 & 0 & 0 & 0 & 1\\\\\n",
       "\t F & 0 & 0 & 1 & 0 & 0 & 0 & 0\\\\\n",
       "\\end{tabular}\n"
      ],
      "text/plain": [
       "   strcol dummy_A dummy_B dummy_F dummy_C dummy_G dummy_D dummy_E\n",
       "1  A      1       0       0       0       0       0       0      \n",
       "2  A      1       0       0       0       0       0       0      \n",
       "3  B      0       1       0       0       0       0       0      \n",
       "4  F      0       0       1       0       0       0       0      \n",
       "5  C      0       0       0       1       0       0       0      \n",
       "6  G      0       0       0       0       1       0       0      \n",
       "7  C      0       0       0       1       0       0       0      \n",
       "8  D      0       0       0       0       0       1       0      \n",
       "9  E      0       0       0       0       0       0       1      \n",
       "10 F      0       0       1       0       0       0       0      "
      ]
     },
     "metadata": {},
     "output_type": "display_data"
    }
   ],
   "source": [
    "# Generate example dataframe with character column\n",
    "example <- as.data.frame(c(\"A\", \"A\", \"B\", \"F\", \"C\", \"G\", \"C\", \"D\", \"E\", \"F\"))\n",
    "names(example) <- \"strcol\"\n",
    "\n",
    "# For every unique value in the string column, create a new 1/0 column\n",
    "# This is what Factors do \"under-the-hood\" automatically when passed to function requiring numeric data\n",
    "for(level in unique(example$strcol)){\n",
    "  example[paste(\"dummy\", level, sep = \"_\")] <- ifelse(example$strcol == level, 1, 0)\n",
    "}\n",
    "example"
   ]
  },
  {
   "cell_type": "markdown",
   "metadata": {},
   "source": [
    "From output of below str() command, you can see five new columns 11 to 15 are created for the corresponding 5 levels in cut variable. Like wise, seven new columns are created for 7 levels in color factor variable and finally eight new dummy columns are created for the 8 levels in clarity variable. "
   ]
  },
  {
   "cell_type": "code",
   "execution_count": 7,
   "metadata": {
    "collapsed": false
   },
   "outputs": [
    {
     "name": "stdout",
     "output_type": "stream",
     "text": [
      "'data.frame':\t53940 obs. of  30 variables:\n",
      " $ carat    : num  0.23 0.21 0.23 0.29 0.31 0.24 0.24 0.26 0.22 0.23 ...\n",
      " $ cut      : Ord.factor w/ 5 levels \"Fair\"<\"Good\"<..: 5 4 2 4 2 3 3 3 1 3 ...\n",
      " $ color    : Ord.factor w/ 7 levels \"D\"<\"E\"<\"F\"<\"G\"<..: 2 2 2 6 7 7 6 5 2 5 ...\n",
      " $ clarity  : Ord.factor w/ 8 levels \"I1\"<\"SI2\"<\"SI1\"<..: 2 3 5 4 2 6 7 3 4 5 ...\n",
      " $ depth    : num  61.5 59.8 56.9 62.4 63.3 62.8 62.3 61.9 65.1 59.4 ...\n",
      " $ table    : num  55 61 65 58 58 57 57 55 61 61 ...\n",
      " $ price    : int  326 326 327 334 335 336 336 337 337 338 ...\n",
      " $ x        : num  3.95 3.89 4.05 4.2 4.34 3.94 3.95 4.07 3.87 4 ...\n",
      " $ y        : num  3.98 3.84 4.07 4.23 4.35 3.96 3.98 4.11 3.78 4.05 ...\n",
      " $ z        : num  2.43 2.31 2.31 2.63 2.75 2.48 2.47 2.53 2.49 2.39 ...\n",
      " $ Fair     : num  0 0 0 0 0 0 0 0 1 0 ...\n",
      " $ Good     : num  0 0 1 0 1 0 0 0 0 0 ...\n",
      " $ Very Good: num  0 0 0 0 0 1 1 1 0 1 ...\n",
      " $ Premium  : num  0 1 0 1 0 0 0 0 0 0 ...\n",
      " $ Ideal    : num  1 0 0 0 0 0 0 0 0 0 ...\n",
      " $ D        : num  0 0 0 0 0 0 0 0 0 0 ...\n",
      " $ E        : num  1 1 1 0 0 0 0 0 1 0 ...\n",
      " $ F        : num  0 0 0 0 0 0 0 0 0 0 ...\n",
      " $ G        : num  0 0 0 0 0 0 0 0 0 0 ...\n",
      " $ H        : num  0 0 0 0 0 0 0 1 0 1 ...\n",
      " $ I        : num  0 0 0 1 0 0 1 0 0 0 ...\n",
      " $ J        : num  0 0 0 0 1 1 0 0 0 0 ...\n",
      " $ I1       : num  0 0 0 0 0 0 0 0 0 0 ...\n",
      " $ SI2      : num  1 0 0 0 1 0 0 0 0 0 ...\n",
      " $ SI1      : num  0 1 0 0 0 0 0 1 0 0 ...\n",
      " $ VS2      : num  0 0 0 1 0 0 0 0 1 0 ...\n",
      " $ VS1      : num  0 0 1 0 0 0 0 0 0 1 ...\n",
      " $ VVS2     : num  0 0 0 0 0 1 0 0 0 0 ...\n",
      " $ VVS1     : num  0 0 0 0 0 0 1 0 0 0 ...\n",
      " $ IF       : num  0 0 0 0 0 0 0 0 0 0 ...\n"
     ]
    }
   ],
   "source": [
    "str(codedData)"
   ]
  },
  {
   "cell_type": "markdown",
   "metadata": {},
   "source": [
    "Columns 2, 3, 4 are factors with charaters values. Remove these columns from data as PCA can only work with numeric data. "
   ]
  },
  {
   "cell_type": "code",
   "execution_count": 8,
   "metadata": {
    "collapsed": true
   },
   "outputs": [],
   "source": [
    "codedData <- codedData[,-c(2,3,4)]"
   ]
  },
  {
   "cell_type": "markdown",
   "metadata": {},
   "source": [
    "Use the prcomp method to find Principal components"
   ]
  },
  {
   "cell_type": "code",
   "execution_count": 9,
   "metadata": {
    "collapsed": false
   },
   "outputs": [],
   "source": [
    "pr <- prcomp(codedData,center = TRUE, scale. = TRUE)"
   ]
  },
  {
   "cell_type": "markdown",
   "metadata": {},
   "source": [
    "**Scores: ** The positions of each observation in this new coordinate system of principal components are called scores and are calculated as linear combinations of the original variables and the weights aij. For example, the score for the rth sample on the kth principal component is calculated as\n",
    "\n",
    "$$Y_{kr} = a_{k1}x_{k1} + a_{k2}x_{k2} + ... + a_{kp}x_{kp}$$\n",
    "\n",
    "**Reference: ** [PCA tutorial](http://strata.uga.edu/software/pdf/pcaTutorial.pdf)\n",
    "\n",
    "These scores are nothing but the principal components. "
   ]
  },
  {
   "cell_type": "markdown",
   "metadata": {},
   "source": [
    "We want to sum all the principal component values for each row which will be score for the row."
   ]
  },
  {
   "cell_type": "code",
   "execution_count": 10,
   "metadata": {
    "collapsed": false
   },
   "outputs": [
    {
     "data": {
      "text/html": [
       "<ol class=list-inline>\n",
       "\t<li>-3.33787017503317</li>\n",
       "\t<li>-13.5802702099411</li>\n",
       "\t<li>-5.86602026284443</li>\n",
       "\t<li>-9.26945022925406</li>\n",
       "\t<li>5.23275336698898</li>\n",
       "\t<li>-4.08669610168842</li>\n",
       "\t<li>-7.66584910450176</li>\n",
       "\t<li>-7.00731706080319</li>\n",
       "\t<li>5.66770778342297</li>\n",
       "\t<li>-6.37290816780491</li>\n",
       "</ol>\n"
      ],
      "text/latex": [
       "\\begin{enumerate*}\n",
       "\\item -3.33787017503317\n",
       "\\item -13.5802702099411\n",
       "\\item -5.86602026284443\n",
       "\\item -9.26945022925406\n",
       "\\item 5.23275336698898\n",
       "\\item -4.08669610168842\n",
       "\\item -7.66584910450176\n",
       "\\item -7.00731706080319\n",
       "\\item 5.66770778342297\n",
       "\\item -6.37290816780491\n",
       "\\end{enumerate*}\n"
      ],
      "text/markdown": [
       "1. -3.33787017503317\n",
       "2. -13.5802702099411\n",
       "3. -5.86602026284443\n",
       "4. -9.26945022925406\n",
       "5. 5.23275336698898\n",
       "6. -4.08669610168842\n",
       "7. -7.66584910450176\n",
       "8. -7.00731706080319\n",
       "9. 5.66770778342297\n",
       "10. -6.37290816780491\n",
       "\n",
       "\n"
      ],
      "text/plain": [
       " [1]  -3.337870 -13.580270  -5.866020  -9.269450   5.232753  -4.086696\n",
       " [7]  -7.665849  -7.007317   5.667708  -6.372908"
      ]
     },
     "metadata": {},
     "output_type": "display_data"
    }
   ],
   "source": [
    "components <- pr$x\n",
    "scores <- rowSums(components)\n",
    "scores[1:10]"
   ]
  },
  {
   "cell_type": "code",
   "execution_count": 11,
   "metadata": {
    "collapsed": true
   },
   "outputs": [],
   "source": [
    "?boxplot"
   ]
  },
  {
   "cell_type": "markdown",
   "metadata": {},
   "source": [
    "Plot the histogram and boxplot for the scores calculated"
   ]
  },
  {
   "cell_type": "code",
   "execution_count": 12,
   "metadata": {
    "collapsed": false
   },
   "outputs": [
    {
     "data": {
      "image/png": "[encoded data removed]",
      "text/plain": [
       "Plot with title “Histogram of scores”"
      ]
     },
     "metadata": {},
     "output_type": "display_data"
    }
   ],
   "source": [
    "options(scipen=999)\n",
    "par(mfrow=c(2,1));\n",
    "\n",
    "#Create histogram of scores\n",
    "hist(scores,breaks = 100)\n",
    "\n",
    "#Drawing Boxplot\n",
    "boxplot(scores,horizontal = FALSE)"
   ]
  },
  {
   "cell_type": "markdown",
   "metadata": {},
   "source": [
    "Most of the rows have scores in the range of 100 to 500. Check rows with scores > 5000"
   ]
  },
  {
   "cell_type": "code",
   "execution_count": 13,
   "metadata": {
    "collapsed": false
   },
   "outputs": [
    {
     "name": "stdout",
     "output_type": "stream",
     "text": [
      "[1] -21.82006  53.21628\n"
     ]
    }
   ],
   "source": [
    "print(range(scores))"
   ]
  },
  {
   "cell_type": "code",
   "execution_count": 14,
   "metadata": {
    "collapsed": false
   },
   "outputs": [
    {
     "data": {
      "text/html": [
       "4"
      ],
      "text/latex": [
       "4"
      ],
      "text/markdown": [
       "4"
      ],
      "text/plain": [
       "[1] 4"
      ]
     },
     "metadata": {},
     "output_type": "display_data"
    },
    {
     "data": {
      "text/html": [
       "<table>\n",
       "<thead><tr><th scope=col>carat</th><th scope=col>cut</th><th scope=col>color</th><th scope=col>clarity</th><th scope=col>depth</th><th scope=col>table</th><th scope=col>price</th><th scope=col>x</th><th scope=col>y</th><th scope=col>z</th></tr></thead>\n",
       "<tbody>\n",
       "\t<tr><td>2.00   </td><td>Premium</td><td>H      </td><td>SI2    </td><td>58.9   </td><td>57     </td><td>12210  </td><td>8.09   </td><td>58.90  </td><td>8.06   </td></tr>\n",
       "\t<tr><td>2.58   </td><td>Fair   </td><td>F      </td><td>SI2    </td><td>65.2   </td><td>59     </td><td>12500  </td><td>8.58   </td><td> 8.51  </td><td>5.57   </td></tr>\n",
       "\t<tr><td>2.00   </td><td>Fair   </td><td>F      </td><td>SI2    </td><td>70.2   </td><td>57     </td><td>15351  </td><td>7.63   </td><td> 7.59  </td><td>5.34   </td></tr>\n",
       "\t<tr><td>0.51   </td><td>Ideal  </td><td>E      </td><td>VS1    </td><td>61.8   </td><td>55     </td><td> 2075  </td><td>5.15   </td><td>31.80  </td><td>5.12   </td></tr>\n",
       "</tbody>\n",
       "</table>\n"
      ],
      "text/latex": [
       "\\begin{tabular}{r|llllllllll}\n",
       " carat & cut & color & clarity & depth & table & price & x & y & z\\\\\n",
       "\\hline\n",
       "\t 2.00    & Premium & H       & SI2     & 58.9    & 57      & 12210   & 8.09    & 58.90   & 8.06   \\\\\n",
       "\t 2.58    & Fair    & F       & SI2     & 65.2    & 59      & 12500   & 8.58    &  8.51   & 5.57   \\\\\n",
       "\t 2.00    & Fair    & F       & SI2     & 70.2    & 57      & 15351   & 7.63    &  7.59   & 5.34   \\\\\n",
       "\t 0.51    & Ideal   & E       & VS1     & 61.8    & 55      &  2075   & 5.15    & 31.80   & 5.12   \\\\\n",
       "\\end{tabular}\n"
      ],
      "text/plain": [
       "  carat cut     color clarity depth table price x    y     z   \n",
       "1 2.00  Premium H     SI2     58.9  57    12210 8.09 58.90 8.06\n",
       "2 2.58  Fair    F     SI2     65.2  59    12500 8.58  8.51 5.57\n",
       "3 2.00  Fair    F     SI2     70.2  57    15351 7.63  7.59 5.34\n",
       "4 0.51  Ideal   E     VS1     61.8  55     2075 5.15 31.80 5.12"
      ]
     },
     "metadata": {},
     "output_type": "display_data"
    }
   ],
   "source": [
    "length(which(scores>25))\n",
    "diamonds[which(scores>25),]"
   ]
  },
  {
   "cell_type": "markdown",
   "metadata": {},
   "source": [
    "Look at the y value in first row. It clearly suggests y value is incorrect. It looks like the depth value has been incorrectly used for y. "
   ]
  },
  {
   "cell_type": "markdown",
   "metadata": {},
   "source": [
    "## Local Outlier Factor\n",
    "\n",
    "Local outlier factor is another way of finding outliers. Read the below wiki page to learn how this method works. \n",
    "\n",
    "**Reference: ** \n",
    "- [Wiki](https://en.wikipedia.org/wiki/Local_outlier_factor)"
   ]
  },
  {
   "cell_type": "markdown",
   "metadata": {},
   "source": [
    "### The LOF algorithm"
   ]
  },
  {
   "cell_type": "markdown",
   "metadata": {},
   "source": [
    "**Reference: ** [lofactor()](https://www.rdocumentation.org/packages/DMwR/versions/0.4.1/topics/lofactor)"
   ]
  },
  {
   "cell_type": "code",
   "execution_count": 15,
   "metadata": {
    "collapsed": false
   },
   "outputs": [
    {
     "name": "stderr",
     "output_type": "stream",
     "text": [
      "Loading required package: lattice\n",
      "Loading required package: grid\n"
     ]
    }
   ],
   "source": [
    "library(DMwR)"
   ]
  },
  {
   "cell_type": "code",
   "execution_count": 16,
   "metadata": {
    "collapsed": false
   },
   "outputs": [
    {
     "data": {
      "text/html": [
       "<table>\n",
       "<thead><tr><th scope=col>ID</th><th scope=col>CAPSULE</th><th scope=col>AGE</th><th scope=col>RACE</th><th scope=col>DPROS</th><th scope=col>DCAPS</th><th scope=col>PSA</th><th scope=col>VOL</th><th scope=col>GLEASON</th></tr></thead>\n",
       "<tbody>\n",
       "\t<tr><td>1   </td><td>0   </td><td>65  </td><td>1   </td><td>2   </td><td>1   </td><td> 1.4</td><td> 0.0</td><td>6   </td></tr>\n",
       "\t<tr><td>2   </td><td>0   </td><td>72  </td><td>1   </td><td>3   </td><td>2   </td><td> 6.7</td><td> 0.0</td><td>7   </td></tr>\n",
       "\t<tr><td>3   </td><td>0   </td><td>70  </td><td>1   </td><td>1   </td><td>2   </td><td> 4.9</td><td> 0.0</td><td>6   </td></tr>\n",
       "\t<tr><td>4   </td><td>0   </td><td>76  </td><td>2   </td><td>2   </td><td>1   </td><td>51.2</td><td>20.0</td><td>7   </td></tr>\n",
       "\t<tr><td>5   </td><td>0   </td><td>69  </td><td>1   </td><td>1   </td><td>1   </td><td>12.3</td><td>55.9</td><td>6   </td></tr>\n",
       "\t<tr><td>6   </td><td>1   </td><td>71  </td><td>1   </td><td>3   </td><td>2   </td><td> 3.3</td><td> 0.0</td><td>8   </td></tr>\n",
       "</tbody>\n",
       "</table>\n"
      ],
      "text/latex": [
       "\\begin{tabular}{r|lllllllll}\n",
       " ID & CAPSULE & AGE & RACE & DPROS & DCAPS & PSA & VOL & GLEASON\\\\\n",
       "\\hline\n",
       "\t 1    & 0    & 65   & 1    & 2    & 1    &  1.4 &  0.0 & 6   \\\\\n",
       "\t 2    & 0    & 72   & 1    & 3    & 2    &  6.7 &  0.0 & 7   \\\\\n",
       "\t 3    & 0    & 70   & 1    & 1    & 2    &  4.9 &  0.0 & 6   \\\\\n",
       "\t 4    & 0    & 76   & 2    & 2    & 1    & 51.2 & 20.0 & 7   \\\\\n",
       "\t 5    & 0    & 69   & 1    & 1    & 1    & 12.3 & 55.9 & 6   \\\\\n",
       "\t 6    & 1    & 71   & 1    & 3    & 2    &  3.3 &  0.0 & 8   \\\\\n",
       "\\end{tabular}\n"
      ],
      "text/plain": [
       "  ID CAPSULE AGE RACE DPROS DCAPS PSA  VOL  GLEASON\n",
       "1 1  0       65  1    2     1      1.4  0.0 6      \n",
       "2 2  0       72  1    3     2      6.7  0.0 7      \n",
       "3 3  0       70  1    1     2      4.9  0.0 6      \n",
       "4 4  0       76  2    2     1     51.2 20.0 7      \n",
       "5 5  0       69  1    1     1     12.3 55.9 6      \n",
       "6 6  1       71  1    3     2      3.3  0.0 8      "
      ]
     },
     "metadata": {},
     "output_type": "display_data"
    }
   ],
   "source": [
    "# # point to the prostate data set in the h2o folder - no need to load h2o in memory yet\n",
    "\n",
    "prostate_df <- read.table(\"/dsa/data/DSA-8630/prostate.txt\",sep=',',header=TRUE)\n",
    "head(prostate_df)"
   ]
  },
  {
   "cell_type": "code",
   "execution_count": 17,
   "metadata": {
    "collapsed": false
   },
   "outputs": [
    {
     "data": {
      "text/html": [
       "<ol class=list-inline>\n",
       "\t<li>380</li>\n",
       "\t<li>9</li>\n",
       "</ol>\n"
      ],
      "text/latex": [
       "\\begin{enumerate*}\n",
       "\\item 380\n",
       "\\item 9\n",
       "\\end{enumerate*}\n"
      ],
      "text/markdown": [
       "1. 380\n",
       "2. 9\n",
       "\n",
       "\n"
      ],
      "text/plain": [
       "[1] 380   9"
      ]
     },
     "metadata": {},
     "output_type": "display_data"
    }
   ],
   "source": [
    "dim(prostate_df)"
   ]
  },
  {
   "cell_type": "code",
   "execution_count": 18,
   "metadata": {
    "collapsed": false
   },
   "outputs": [
    {
     "data": {
      "text/plain": [
       "    CAPSULE            AGE             RACE           DPROS      \n",
       " Min.   :0.0000   Min.   :43.00   Min.   :0.000   Min.   :1.000  \n",
       " 1st Qu.:0.0000   1st Qu.:62.00   1st Qu.:1.000   1st Qu.:1.000  \n",
       " Median :0.0000   Median :67.00   Median :1.000   Median :2.000  \n",
       " Mean   :0.4026   Mean   :66.04   Mean   :1.087   Mean   :2.271  \n",
       " 3rd Qu.:1.0000   3rd Qu.:71.00   3rd Qu.:1.000   3rd Qu.:3.000  \n",
       " Max.   :1.0000   Max.   :79.00   Max.   :2.000   Max.   :4.000  \n",
       "     DCAPS            PSA              VOL           GLEASON     \n",
       " Min.   :1.000   Min.   :  0.30   Min.   : 0.00   Min.   :0.000  \n",
       " 1st Qu.:1.000   1st Qu.:  5.00   1st Qu.: 0.00   1st Qu.:6.000  \n",
       " Median :1.000   Median :  8.75   Median :14.25   Median :6.000  \n",
       " Mean   :1.108   Mean   : 15.41   Mean   :15.81   Mean   :6.384  \n",
       " 3rd Qu.:1.000   3rd Qu.: 17.12   3rd Qu.:26.45   3rd Qu.:7.000  \n",
       " Max.   :2.000   Max.   :139.70   Max.   :97.60   Max.   :9.000  "
      ]
     },
     "metadata": {},
     "output_type": "display_data"
    }
   ],
   "source": [
    "# # We don't need the ID field\n",
    "prostate_df <- prostate_df[,-1]\n",
    "summary(prostate_df)"
   ]
  },
  {
   "cell_type": "markdown",
   "metadata": {},
   "source": [
    "Using lofactor(), you are just telling the function how many neighbours it should consider by giving a number to k when calculating the outliers. "
   ]
  },
  {
   "cell_type": "code",
   "execution_count": 19,
   "metadata": {
    "collapsed": false
   },
   "outputs": [],
   "source": [
    "# k=5 indicates to pick top 5 outliers\n",
    "outlier.scores <- lofactor(prostate_df, k=50)"
   ]
  },
  {
   "cell_type": "markdown",
   "metadata": {},
   "source": [
    "Now that the outlier scores are calculated, pick the top 10 outliers with highest scores."
   ]
  },
  {
   "cell_type": "code",
   "execution_count": 20,
   "metadata": {
    "collapsed": false
   },
   "outputs": [
    {
     "name": "stdout",
     "output_type": "stream",
     "text": [
      " [1] 374  61 303 355  52 234 156 248 104  25\n"
     ]
    }
   ],
   "source": [
    "outliers <- order(outlier.scores, decreasing=T)[1:10]\n",
    "\n",
    "# who are outliers\n",
    "print(outliers)"
   ]
  },
  {
   "cell_type": "markdown",
   "metadata": {},
   "source": [
    "#### Visualize Outliers with Plots\n",
    "\n",
    "Next, we show outliers with a biplot of the first two principal components."
   ]
  },
  {
   "cell_type": "code",
   "execution_count": 21,
   "metadata": {
    "collapsed": false
   },
   "outputs": [
    {
     "data": {
      "image/png": "[encoded data removed]",
      "text/plain": [
       "plot without title"
      ]
     },
     "metadata": {},
     "output_type": "display_data"
    }
   ],
   "source": [
    "n <- nrow(prostate_df)\n",
    "labels <- 1:n\n",
    "labels[-outliers] <- \".\"\n",
    "biplot(prcomp(prostate_df), cex=.8, xlabs=labels)"
   ]
  },
  {
   "cell_type": "markdown",
   "metadata": {},
   "source": [
    "Its up to you to decide if below values are outliers and removed from dataset. It requires domain knowledge or knowledge about the data to make decisions on data. You may want to do more analysis before excluding them. "
   ]
  },
  {
   "cell_type": "code",
   "execution_count": 22,
   "metadata": {
    "collapsed": false
   },
   "outputs": [
    {
     "data": {
      "text/html": [
       "<table>\n",
       "<thead><tr><th></th><th scope=col>CAPSULE</th><th scope=col>AGE</th><th scope=col>RACE</th><th scope=col>DPROS</th><th scope=col>DCAPS</th><th scope=col>PSA</th><th scope=col>VOL</th><th scope=col>GLEASON</th></tr></thead>\n",
       "<tbody>\n",
       "\t<tr><th scope=row>374</th><td>1    </td><td>65   </td><td>1    </td><td>4    </td><td>1    </td><td>139.7</td><td>29.9 </td><td>9    </td></tr>\n",
       "\t<tr><th scope=row>61</th><td>0    </td><td>59   </td><td>1    </td><td>2    </td><td>1    </td><td>  0.7</td><td>96.0 </td><td>5    </td></tr>\n",
       "\t<tr><th scope=row>303</th><td>1    </td><td>67   </td><td>1    </td><td>4    </td><td>2    </td><td>135.0</td><td> 0.0 </td><td>7    </td></tr>\n",
       "\t<tr><th scope=row>355</th><td>0    </td><td>71   </td><td>2    </td><td>2    </td><td>1    </td><td> 12.3</td><td>97.6 </td><td>5    </td></tr>\n",
       "\t<tr><th scope=row>52</th><td>1    </td><td>72   </td><td>1    </td><td>4    </td><td>2    </td><td>124.0</td><td>38.6 </td><td>8    </td></tr>\n",
       "\t<tr><th scope=row>234</th><td>1    </td><td>59   </td><td>2    </td><td>4    </td><td>1    </td><td>126.0</td><td>20.3 </td><td>8    </td></tr>\n",
       "\t<tr><th scope=row>156</th><td>0    </td><td>76   </td><td>1    </td><td>2    </td><td>1    </td><td>  8.9</td><td>87.3 </td><td>5    </td></tr>\n",
       "\t<tr><th scope=row>248</th><td>1    </td><td>57   </td><td>2    </td><td>1    </td><td>1    </td><td> 63.3</td><td>73.4 </td><td>7    </td></tr>\n",
       "\t<tr><th scope=row>104</th><td>0    </td><td>75   </td><td>1    </td><td>3    </td><td>1    </td><td> 25.7</td><td>87.6 </td><td>5    </td></tr>\n",
       "\t<tr><th scope=row>25</th><td>1    </td><td>77   </td><td>1    </td><td>1    </td><td>1    </td><td> 61.1</td><td>58.0 </td><td>7    </td></tr>\n",
       "</tbody>\n",
       "</table>\n"
      ],
      "text/latex": [
       "\\begin{tabular}{r|llllllll}\n",
       "  & CAPSULE & AGE & RACE & DPROS & DCAPS & PSA & VOL & GLEASON\\\\\n",
       "\\hline\n",
       "\t374 & 1     & 65    & 1     & 4     & 1     & 139.7 & 29.9  & 9    \\\\\n",
       "\t61 & 0     & 59    & 1     & 2     & 1     &   0.7 & 96.0  & 5    \\\\\n",
       "\t303 & 1     & 67    & 1     & 4     & 2     & 135.0 &  0.0  & 7    \\\\\n",
       "\t355 & 0     & 71    & 2     & 2     & 1     &  12.3 & 97.6  & 5    \\\\\n",
       "\t52 & 1     & 72    & 1     & 4     & 2     & 124.0 & 38.6  & 8    \\\\\n",
       "\t234 & 1     & 59    & 2     & 4     & 1     & 126.0 & 20.3  & 8    \\\\\n",
       "\t156 & 0     & 76    & 1     & 2     & 1     &   8.9 & 87.3  & 5    \\\\\n",
       "\t248 & 1     & 57    & 2     & 1     & 1     &  63.3 & 73.4  & 7    \\\\\n",
       "\t104 & 0     & 75    & 1     & 3     & 1     &  25.7 & 87.6  & 5    \\\\\n",
       "\t25 & 1     & 77    & 1     & 1     & 1     &  61.1 & 58.0  & 7    \\\\\n",
       "\\end{tabular}\n"
      ],
      "text/plain": [
       "    CAPSULE AGE RACE DPROS DCAPS PSA   VOL  GLEASON\n",
       "374 1       65  1    4     1     139.7 29.9 9      \n",
       "61  0       59  1    2     1       0.7 96.0 5      \n",
       "303 1       67  1    4     2     135.0  0.0 7      \n",
       "355 0       71  2    2     1      12.3 97.6 5      \n",
       "52  1       72  1    4     2     124.0 38.6 8      \n",
       "234 1       59  2    4     1     126.0 20.3 8      \n",
       "156 0       76  1    2     1       8.9 87.3 5      \n",
       "248 1       57  2    1     1      63.3 73.4 7      \n",
       "104 0       75  1    3     1      25.7 87.6 5      \n",
       "25  1       77  1    1     1      61.1 58.0 7      "
      ]
     },
     "metadata": {},
     "output_type": "display_data"
    }
   ],
   "source": [
    "prostate_df[outliers,]"
   ]
  },
  {
   "cell_type": "markdown",
   "metadata": {},
   "source": [
    "### Outliers Detection in Time Series data"
   ]
  },
  {
   "cell_type": "code",
   "execution_count": 23,
   "metadata": {
    "collapsed": false
   },
   "outputs": [
    {
     "name": "stderr",
     "output_type": "stream",
     "text": [
      "Loading required package: forecast\n",
      "Loading required package: zoo\n",
      "\n",
      "Attaching package: ‘zoo’\n",
      "\n",
      "The following objects are masked from ‘package:base’:\n",
      "\n",
      "    as.Date, as.Date.numeric\n",
      "\n",
      "Loading required package: timeDate\n",
      "This is forecast 7.3 \n",
      "\n",
      "\n",
      "Attaching package: ‘fma’\n",
      "\n",
      "The following object is masked from ‘package:DMwR’:\n",
      "\n",
      "    sales\n",
      "\n"
     ]
    }
   ],
   "source": [
    "library(tsoutliers)\n",
    "library(expsmooth)\n",
    "library(fma)"
   ]
  },
  {
   "cell_type": "markdown",
   "metadata": {},
   "source": [
    "The data in table_a has the historical stock data of different companies. It has following fields Date, Time, Open, High, Low, Close, Volume.  \n",
    "\n",
    "\n",
    "- Date – This provides the date as an integer where 20100527 would represent May 27th, 2010.\n",
    "- Time – This gives the time as an integer where 1426 would represent 2:26PM EST.\n",
    "- Open – The open price.\n",
    "- High – The high price.\n",
    "- Low – The low price.\n",
    "- Close – The close price.\n",
    "- Volume – The trading volume during the interval. Note that it is extremely difficult to get accurate volume information. The volume is adjusted for splits so that the total value of shares traded remains constant even if a split occurs."
   ]
  },
  {
   "cell_type": "code",
   "execution_count": 24,
   "metadata": {
    "collapsed": true
   },
   "outputs": [],
   "source": [
    "names=c(\"Date\",\"Time\",\"Open\",\"High\",\"Low\",\"Close\",\"Volume\")\n",
    "stock = read.csv(\"/dsa/data/DSA-8630/table_a.csv\",header=FALSE)\n",
    "names(stock) = names"
   ]
  },
  {
   "cell_type": "code",
   "execution_count": 25,
   "metadata": {
    "collapsed": false
   },
   "outputs": [
    {
     "data": {
      "text/html": [
       "<table>\n",
       "<thead><tr><th scope=col>Date</th><th scope=col>Time</th><th scope=col>Open</th><th scope=col>High</th><th scope=col>Low</th><th scope=col>Close</th><th scope=col>Volume</th></tr></thead>\n",
       "<tbody>\n",
       "\t<tr><td>19991118</td><td>0       </td><td>42.2076 </td><td>46.3820 </td><td>37.4581 </td><td>39.1928 </td><td>43981813</td></tr>\n",
       "\t<tr><td>19991119</td><td>0       </td><td>39.8329 </td><td>39.8885 </td><td>36.9293 </td><td>37.6251 </td><td>11390201</td></tr>\n",
       "\t<tr><td>19991122</td><td>0       </td><td>38.3208 </td><td>40.0091 </td><td>37.1613 </td><td>39.9442 </td><td> 4654716</td></tr>\n",
       "\t<tr><td>19991123</td><td>0       </td><td>39.4247 </td><td>40.4729 </td><td>37.3375 </td><td>37.5138 </td><td> 4268903</td></tr>\n",
       "\t<tr><td>19991124</td><td>0       </td><td>37.2262 </td><td>38.9052 </td><td>37.1056 </td><td>38.0889 </td><td> 3602367</td></tr>\n",
       "\t<tr><td>19991126</td><td>0       </td><td>37.9219 </td><td>38.4971 </td><td>37.8013 </td><td>38.2095 </td><td> 1332198</td></tr>\n",
       "</tbody>\n",
       "</table>\n"
      ],
      "text/latex": [
       "\\begin{tabular}{r|lllllll}\n",
       " Date & Time & Open & High & Low & Close & Volume\\\\\n",
       "\\hline\n",
       "\t 19991118 & 0        & 42.2076  & 46.3820  & 37.4581  & 39.1928  & 43981813\\\\\n",
       "\t 19991119 & 0        & 39.8329  & 39.8885  & 36.9293  & 37.6251  & 11390201\\\\\n",
       "\t 19991122 & 0        & 38.3208  & 40.0091  & 37.1613  & 39.9442  &  4654716\\\\\n",
       "\t 19991123 & 0        & 39.4247  & 40.4729  & 37.3375  & 37.5138  &  4268903\\\\\n",
       "\t 19991124 & 0        & 37.2262  & 38.9052  & 37.1056  & 38.0889  &  3602367\\\\\n",
       "\t 19991126 & 0        & 37.9219  & 38.4971  & 37.8013  & 38.2095  &  1332198\\\\\n",
       "\\end{tabular}\n"
      ],
      "text/plain": [
       "  Date     Time Open    High    Low     Close   Volume  \n",
       "1 19991118 0    42.2076 46.3820 37.4581 39.1928 43981813\n",
       "2 19991119 0    39.8329 39.8885 36.9293 37.6251 11390201\n",
       "3 19991122 0    38.3208 40.0091 37.1613 39.9442  4654716\n",
       "4 19991123 0    39.4247 40.4729 37.3375 37.5138  4268903\n",
       "5 19991124 0    37.2262 38.9052 37.1056 38.0889  3602367\n",
       "6 19991126 0    37.9219 38.4971 37.8013 38.2095  1332198"
      ]
     },
     "metadata": {},
     "output_type": "display_data"
    }
   ],
   "source": [
    "head(stock)"
   ]
  },
  {
   "cell_type": "markdown",
   "metadata": {},
   "source": [
    "Convert the Close column into a time series data. start and end has the time periods for which the data is available. Since we have the data for everyday (although there are some missing dates) we will use frequency=30."
   ]
  },
  {
   "cell_type": "code",
   "execution_count": 26,
   "metadata": {
    "collapsed": true
   },
   "outputs": [],
   "source": [
    "stock_series <- ts(stock$Close, start=c(1999, 11, 18), end=c(2013, 08, 09), frequency=30)"
   ]
  },
  {
   "cell_type": "code",
   "execution_count": 27,
   "metadata": {
    "collapsed": false
   },
   "outputs": [
    {
     "data": {
      "text/html": [
       "<ol class=list-inline>\n",
       "\t<li>39.1928</li>\n",
       "\t<li>37.6251</li>\n",
       "\t<li>39.9442</li>\n",
       "\t<li>37.5138</li>\n",
       "\t<li>38.0889</li>\n",
       "\t<li>38.2095</li>\n",
       "\t<li>38.9052</li>\n",
       "\t<li>39.1371</li>\n",
       "\t<li>40.1204</li>\n",
       "\t<li>41.5119</li>\n",
       "\t<li>41.6881</li>\n",
       "\t<li>42.3839</li>\n",
       "\t<li>41.9757</li>\n",
       "\t<li>41.6881</li>\n",
       "\t<li>42.4395</li>\n",
       "\t<li>41.92</li>\n",
       "\t<li>41.6881</li>\n",
       "\t<li>39.0815</li>\n",
       "\t<li>38.6733</li>\n",
       "\t<li>42.0963</li>\n",
       "\t<li>42.6158</li>\n",
       "\t<li>43.3115</li>\n",
       "\t<li>43.2558</li>\n",
       "\t<li>43.4878</li>\n",
       "\t<li>46.0388</li>\n",
       "\t<li>48.9887</li>\n",
       "\t<li>56.8179</li>\n",
       "\t<li>64.0628</li>\n",
       "\t<li>72.8754</li>\n",
       "\t<li>71.7158</li>\n",
       "\t<li>66.6138</li>\n",
       "\t<li>60.8161</li>\n",
       "\t<li>57.9775</li>\n",
       "\t<li>54.5545</li>\n",
       "\t<li>60.4172</li>\n",
       "\t<li>63.8309</li>\n",
       "\t<li>62.9682</li>\n",
       "\t<li>61.3448</li>\n",
       "\t<li>62.9033</li>\n",
       "\t<li>63.432</li>\n",
       "\t<li>66.3263</li>\n",
       "\t<li>65.6305</li>\n",
       "\t<li>63.2001</li>\n",
       "\t<li>63.599</li>\n",
       "\t<li>63.4877</li>\n",
       "\t<li>62.6713</li>\n",
       "\t<li>63.3671</li>\n",
       "\t<li>63.6639</li>\n",
       "\t<li>62.9033</li>\n",
       "\t<li>61.3448</li>\n",
       "\t<li>66.0387</li>\n",
       "\t<li>68.8773</li>\n",
       "\t<li>72.124</li>\n",
       "\t<li>70.7325</li>\n",
       "\t<li>73.803</li>\n",
       "\t<li>72.7084</li>\n",
       "\t<li>70.2131</li>\n",
       "\t<li>71.0201</li>\n",
       "\t<li>69.9812</li>\n",
       "\t<li>70.7325</li>\n",
       "\t<li>75.3707</li>\n",
       "\t<li>75.1388</li>\n",
       "\t<li>76.5303</li>\n",
       "\t<li>87.3187</li>\n",
       "\t<li>84.9996</li>\n",
       "\t<li>91.892</li>\n",
       "\t<li>98.0979</li>\n",
       "\t<li>100.417</li>\n",
       "\t<li>92.6527</li>\n",
       "\t<li>95.315</li>\n",
       "\t<li>101.057</li>\n",
       "\t<li>95.8994</li>\n",
       "\t<li>100.649</li>\n",
       "\t<li>141.354</li>\n",
       "\t<li>128.71</li>\n",
       "\t<li>134.452</li>\n",
       "\t<li>141.465</li>\n",
       "\t<li>132.653</li>\n",
       "\t<li>121.808</li>\n",
       "\t<li>112.708</li>\n",
       "\t<li>107.374</li>\n",
       "\t<li>110.677</li>\n",
       "\t<li>112.244</li>\n",
       "\t<li>105.287</li>\n",
       "\t<li>105.519</li>\n",
       "\t<li>110.742</li>\n",
       "\t<li>111.317</li>\n",
       "\t<li>108.423</li>\n",
       "\t<li>106.215</li>\n",
       "\t<li>110.565</li>\n",
       "\t<li>103.432</li>\n",
       "\t<li>96.827</li>\n",
       "\t<li>96.4189</li>\n",
       "\t<li>90.7325</li>\n",
       "\t<li>86.2705</li>\n",
       "\t<li>89.4616</li>\n",
       "\t<li>96.994</li>\n",
       "\t<li>114.044</li>\n",
       "\t<li>98.7936</li>\n",
       "\t<li>93.3484</li>\n",
       "</ol>\n"
      ],
      "text/latex": [
       "\\begin{enumerate*}\n",
       "\\item 39.1928\n",
       "\\item 37.6251\n",
       "\\item 39.9442\n",
       "\\item 37.5138\n",
       "\\item 38.0889\n",
       "\\item 38.2095\n",
       "\\item 38.9052\n",
       "\\item 39.1371\n",
       "\\item 40.1204\n",
       "\\item 41.5119\n",
       "\\item 41.6881\n",
       "\\item 42.3839\n",
       "\\item 41.9757\n",
       "\\item 41.6881\n",
       "\\item 42.4395\n",
       "\\item 41.92\n",
       "\\item 41.6881\n",
       "\\item 39.0815\n",
       "\\item 38.6733\n",
       "\\item 42.0963\n",
       "\\item 42.6158\n",
       "\\item 43.3115\n",
       "\\item 43.2558\n",
       "\\item 43.4878\n",
       "\\item 46.0388\n",
       "\\item 48.9887\n",
       "\\item 56.8179\n",
       "\\item 64.0628\n",
       "\\item 72.8754\n",
       "\\item 71.7158\n",
       "\\item 66.6138\n",
       "\\item 60.8161\n",
       "\\item 57.9775\n",
       "\\item 54.5545\n",
       "\\item 60.4172\n",
       "\\item 63.8309\n",
       "\\item 62.9682\n",
       "\\item 61.3448\n",
       "\\item 62.9033\n",
       "\\item 63.432\n",
       "\\item 66.3263\n",
       "\\item 65.6305\n",
       "\\item 63.2001\n",
       "\\item 63.599\n",
       "\\item 63.4877\n",
       "\\item 62.6713\n",
       "\\item 63.3671\n",
       "\\item 63.6639\n",
       "\\item 62.9033\n",
       "\\item 61.3448\n",
       "\\item 66.0387\n",
       "\\item 68.8773\n",
       "\\item 72.124\n",
       "\\item 70.7325\n",
       "\\item 73.803\n",
       "\\item 72.7084\n",
       "\\item 70.2131\n",
       "\\item 71.0201\n",
       "\\item 69.9812\n",
       "\\item 70.7325\n",
       "\\item 75.3707\n",
       "\\item 75.1388\n",
       "\\item 76.5303\n",
       "\\item 87.3187\n",
       "\\item 84.9996\n",
       "\\item 91.892\n",
       "\\item 98.0979\n",
       "\\item 100.417\n",
       "\\item 92.6527\n",
       "\\item 95.315\n",
       "\\item 101.057\n",
       "\\item 95.8994\n",
       "\\item 100.649\n",
       "\\item 141.354\n",
       "\\item 128.71\n",
       "\\item 134.452\n",
       "\\item 141.465\n",
       "\\item 132.653\n",
       "\\item 121.808\n",
       "\\item 112.708\n",
       "\\item 107.374\n",
       "\\item 110.677\n",
       "\\item 112.244\n",
       "\\item 105.287\n",
       "\\item 105.519\n",
       "\\item 110.742\n",
       "\\item 111.317\n",
       "\\item 108.423\n",
       "\\item 106.215\n",
       "\\item 110.565\n",
       "\\item 103.432\n",
       "\\item 96.827\n",
       "\\item 96.4189\n",
       "\\item 90.7325\n",
       "\\item 86.2705\n",
       "\\item 89.4616\n",
       "\\item 96.994\n",
       "\\item 114.044\n",
       "\\item 98.7936\n",
       "\\item 93.3484\n",
       "\\end{enumerate*}\n"
      ],
      "text/markdown": [
       "1. 39.1928\n",
       "2. 37.6251\n",
       "3. 39.9442\n",
       "4. 37.5138\n",
       "5. 38.0889\n",
       "6. 38.2095\n",
       "7. 38.9052\n",
       "8. 39.1371\n",
       "9. 40.1204\n",
       "10. 41.5119\n",
       "11. 41.6881\n",
       "12. 42.3839\n",
       "13. 41.9757\n",
       "14. 41.6881\n",
       "15. 42.4395\n",
       "16. 41.92\n",
       "17. 41.6881\n",
       "18. 39.0815\n",
       "19. 38.6733\n",
       "20. 42.0963\n",
       "21. 42.6158\n",
       "22. 43.3115\n",
       "23. 43.2558\n",
       "24. 43.4878\n",
       "25. 46.0388\n",
       "26. 48.9887\n",
       "27. 56.8179\n",
       "28. 64.0628\n",
       "29. 72.8754\n",
       "30. 71.7158\n",
       "31. 66.6138\n",
       "32. 60.8161\n",
       "33. 57.9775\n",
       "34. 54.5545\n",
       "35. 60.4172\n",
       "36. 63.8309\n",
       "37. 62.9682\n",
       "38. 61.3448\n",
       "39. 62.9033\n",
       "40. 63.432\n",
       "41. 66.3263\n",
       "42. 65.6305\n",
       "43. 63.2001\n",
       "44. 63.599\n",
       "45. 63.4877\n",
       "46. 62.6713\n",
       "47. 63.3671\n",
       "48. 63.6639\n",
       "49. 62.9033\n",
       "50. 61.3448\n",
       "51. 66.0387\n",
       "52. 68.8773\n",
       "53. 72.124\n",
       "54. 70.7325\n",
       "55. 73.803\n",
       "56. 72.7084\n",
       "57. 70.2131\n",
       "58. 71.0201\n",
       "59. 69.9812\n",
       "60. 70.7325\n",
       "61. 75.3707\n",
       "62. 75.1388\n",
       "63. 76.5303\n",
       "64. 87.3187\n",
       "65. 84.9996\n",
       "66. 91.892\n",
       "67. 98.0979\n",
       "68. 100.417\n",
       "69. 92.6527\n",
       "70. 95.315\n",
       "71. 101.057\n",
       "72. 95.8994\n",
       "73. 100.649\n",
       "74. 141.354\n",
       "75. 128.71\n",
       "76. 134.452\n",
       "77. 141.465\n",
       "78. 132.653\n",
       "79. 121.808\n",
       "80. 112.708\n",
       "81. 107.374\n",
       "82. 110.677\n",
       "83. 112.244\n",
       "84. 105.287\n",
       "85. 105.519\n",
       "86. 110.742\n",
       "87. 111.317\n",
       "88. 108.423\n",
       "89. 106.215\n",
       "90. 110.565\n",
       "91. 103.432\n",
       "92. 96.827\n",
       "93. 96.4189\n",
       "94. 90.7325\n",
       "95. 86.2705\n",
       "96. 89.4616\n",
       "97. 96.994\n",
       "98. 114.044\n",
       "99. 98.7936\n",
       "100. 93.3484\n",
       "\n",
       "\n"
      ],
      "text/plain": [
       "  [1]  39.1928  37.6251  39.9442  37.5138  38.0889  38.2095  38.9052  39.1371\n",
       "  [9]  40.1204  41.5119  41.6881  42.3839  41.9757  41.6881  42.4395  41.9200\n",
       " [17]  41.6881  39.0815  38.6733  42.0963  42.6158  43.3115  43.2558  43.4878\n",
       " [25]  46.0388  48.9887  56.8179  64.0628  72.8754  71.7158  66.6138  60.8161\n",
       " [33]  57.9775  54.5545  60.4172  63.8309  62.9682  61.3448  62.9033  63.4320\n",
       " [41]  66.3263  65.6305  63.2001  63.5990  63.4877  62.6713  63.3671  63.6639\n",
       " [49]  62.9033  61.3448  66.0387  68.8773  72.1240  70.7325  73.8030  72.7084\n",
       " [57]  70.2131  71.0201  69.9812  70.7325  75.3707  75.1388  76.5303  87.3187\n",
       " [65]  84.9996  91.8920  98.0979 100.4170  92.6527  95.3150 101.0570  95.8994\n",
       " [73] 100.6490 141.3540 128.7100 134.4520 141.4650 132.6530 121.8080 112.7080\n",
       " [81] 107.3740 110.6770 112.2440 105.2870 105.5190 110.7420 111.3170 108.4230\n",
       " [89] 106.2150 110.5650 103.4320  96.8270  96.4189  90.7325  86.2705  89.4616\n",
       " [97]  96.9940 114.0440  98.7936  93.3484"
      ]
     },
     "metadata": {},
     "output_type": "display_data"
    }
   ],
   "source": [
    "stock_series[1:100]"
   ]
  },
  {
   "cell_type": "markdown",
   "metadata": {},
   "source": [
    "The package detects 5 different types of outliers iteratively in time series data:\n",
    "\n",
    "- Additive Outlier (AO)\n",
    "- Innovation Outlier (IO)\n",
    "- Level Shift (LS)\n",
    "- Temporary change (TC)\n",
    "- Seasonal Level Shift (SLS)\n",
    "\n",
    "[Click here for definition of these outliers](https://www.ibm.com/support/knowledgecenter/SS3RA7_15.0.0/com.ibm.spss.modeler.help/ts_outliers_overview.htm)\n",
    "\n",
    "In below cell we are looking for Additive, Level shift and temporarry chnage outliers in data."
   ]
  },
  {
   "cell_type": "code",
   "execution_count": 28,
   "metadata": {
    "collapsed": false
   },
   "outputs": [
    {
     "data": {
      "text/plain": [
       "Series: stock_series \n",
       "ARIMA(0,1,0)                    \n",
       "\n",
       "Coefficients:\n",
       "         TC74     TC77     TC98     LS170\n",
       "      38.9411  14.5143  21.0632  -23.8311\n",
       "s.e.   2.9307   2.9307   2.9228    3.1702\n",
       "\n",
       "sigma^2 estimated as 10.15:  log likelihood=-1072.84\n",
       "AIC=2155.67   AICc=2155.82   BIC=2175.84\n",
       "\n",
       "Outliers:\n",
       "  type ind    time coefhat  tstat\n",
       "1   TC  74 2001:24   38.94 13.287\n",
       "2   TC  77 2001:27   14.51  4.952\n",
       "3   TC  98 2002:18   21.06  7.206\n",
       "4   LS 170 2004:30  -23.83 -7.517"
      ]
     },
     "metadata": {},
     "output_type": "display_data"
    },
    {
     "data": {
      "image/png": "[encoded data removed]",
      "text/plain": [
       "plot without title"
      ]
     },
     "metadata": {},
     "output_type": "display_data"
    }
   ],
   "source": [
    "stock_outliers <- tso(stock_series,types = c(\"AO\",\"LS\",\"TC\"),maxit.iloop=10)\n",
    "stock_outliers\n",
    "plot(stock_outliers)"
   ]
  },
  {
   "cell_type": "markdown",
   "metadata": {},
   "source": [
    "## Extra\n",
    "\n",
    "-----\n",
    "\n",
    "\n",
    "**Have you used apply() before.. Here's something similar but does little more than that** \n",
    "\n",
    "- [sweep()](https://stat.ethz.ch/R-manual/R-devel/library/base/html/sweep.html)\n",
    "\n",
    "**Syntax:** sweep(x, MARGIN, STATS, FUN=\"-\", check.margin=T, ...)\n",
    "\n",
    "\n",
    "sweep is similar to apply() where yu apply a function to each column or row of a dataframe. But sweep is typically used when you operate a matrix by row or by column, and need the flexibility for the input of the operation to have a different value for each row / column. Whether you operate by row(1) or column(2) is defined by MARGIN, the second parameter in below code. So in below piece of code, for each column you will take a value from c(10, 20, 30) which is being defined by STATS parameter and use in the operation \"+\" defined by FUN parameter."
   ]
  },
  {
   "cell_type": "code",
   "execution_count": 29,
   "metadata": {
    "collapsed": false
   },
   "outputs": [
    {
     "name": "stdout",
     "output_type": "stream",
     "text": [
      "  Weight Waist Height\n",
      "1    130    26    140\n",
      "2    110    24    155\n",
      "3    118    25    142\n",
      "4    112    25    175\n",
      "5    128    26    170\n"
     ]
    },
    {
     "data": {
      "text/html": [
       "<table>\n",
       "<thead><tr><th scope=col>Weight</th><th scope=col>Waist</th><th scope=col>Height</th></tr></thead>\n",
       "<tbody>\n",
       "\t<tr><td>140</td><td>46 </td><td>170</td></tr>\n",
       "\t<tr><td>120</td><td>44 </td><td>185</td></tr>\n",
       "\t<tr><td>128</td><td>45 </td><td>172</td></tr>\n",
       "\t<tr><td>122</td><td>45 </td><td>205</td></tr>\n",
       "\t<tr><td>138</td><td>46 </td><td>200</td></tr>\n",
       "</tbody>\n",
       "</table>\n"
      ],
      "text/latex": [
       "\\begin{tabular}{r|lll}\n",
       " Weight & Waist & Height\\\\\n",
       "\\hline\n",
       "\t 140 & 46  & 170\\\\\n",
       "\t 120 & 44  & 185\\\\\n",
       "\t 128 & 45  & 172\\\\\n",
       "\t 122 & 45  & 205\\\\\n",
       "\t 138 & 46  & 200\\\\\n",
       "\\end{tabular}\n"
      ],
      "text/plain": [
       "  Weight Waist Height\n",
       "1 140    46    170   \n",
       "2 120    44    185   \n",
       "3 128    45    172   \n",
       "4 122    45    205   \n",
       "5 138    46    200   "
      ]
     },
     "metadata": {},
     "output_type": "display_data"
    }
   ],
   "source": [
    "# Sample code explaining what sweep() is doing\n",
    "a = c(130,110,118,112,128)\n",
    "b = c(26,24,25,25,26)\n",
    "c = c(140,155,142,175,170)\n",
    "names=c(\"Weight\",\"Waist\",\"Height\")\n",
    "size = data.frame(a,b,c)\n",
    "names(size)=names\n",
    "print(size)\n",
    "\n",
    "# We are adding values 10, 20, 30 to columns \n",
    "sweep(size, 2, c(10, 20, 30), \"+\")\n"
   ]
  },
  {
   "cell_type": "code",
   "execution_count": null,
   "metadata": {
    "collapsed": true
   },
   "outputs": [],
   "source": []
  }
 ],
 "metadata": {
  "kernelspec": {
   "display_name": "R",
   "language": "R",
   "name": "ir"
  },
  "language_info": {
   "codemirror_mode": "r",
   "file_extension": ".r",
   "mimetype": "text/x-r-source",
   "name": "R",
   "pygments_lexer": "r",
   "version": "3.3.2"
  }
 },
 "nbformat": 4,
 "nbformat_minor": 2
}
