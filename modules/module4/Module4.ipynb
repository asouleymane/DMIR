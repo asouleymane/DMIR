{
 "cells": [
  {
   "cell_type": "markdown",
   "metadata": {},
   "source": [
    "# Module 4: Anomaly Detection\n",
    "\n",
    "\n",
    "## Topics covered\n",
    "\n",
    "\n",
    "* Anomaly Detection using PCA\n",
    "* Anomaly Detection using Local Outlier Factor\n",
    "\n",
    "\n",
    "\n",
    "## Readings\n",
    "The following is the suggested reading for above topic.\n",
    "\n",
    "- [Anomaly_Detection.pdf](./Resources/Anomaly_Detection.pdf) "
   ]
  },
  {
   "cell_type": "markdown",
   "metadata": {},
   "source": [
    "## Video topics\n",
    "  - **Concept Video**: Anomaly Detection\n",
    "  \n",
    "  \n",
    "## Labs\n",
    "  - [anomaly_detection.ipynb.ipynb](./labs/anomaly_detection.ipynb)\n",
    "  \n",
    "\n",
    "\n",
    "## Project \n",
    "\n",
    "  - Pick a dataset and apply the concepts learned in last 3 modules viz Data extraction, cleaning, explorarion, pattern mining/clustering and anomaly detection. Analyze the dataset and submit your results. \n",
    "\n"
   ]
  },
  {
   "cell_type": "markdown",
   "metadata": {},
   "source": [
    "## Data Sets\n",
    "Path: `/dsa/data/DSA-8630/`\n",
    "\n",
    "Dataset Name                 | File\n",
    "-----------------------------|------------\n",
    "prostate                     |prostate.txt\n",
    "\n",
    "\n",
    "\n",
    "## Suggested Schedule\n",
    "\n",
    "### Monday\n",
    "  - **Concept Video**:  Anomaly Detection\n",
    "   \n",
    "   \n",
    "  - **Lab Notebooks**: \n",
    "     1. anomaly_detection\n",
    "  \n",
    "  \n",
    "  - Pick a dataset and think about a question that you want to answer at the end about the data.\n",
    "\n",
    "### Wednesday\n",
    "  \n",
    "   - Post answers(question that you want to answer) in the discussion forum to see what others are trying to do with the datasets. \n",
    "\n",
    "\n",
    "### Friday\n",
    "   - Finish data extraction, cleaning and exploratory analysis at most by Saturday\n",
    "\n",
    "\n",
    "### Next Wednesday \n",
    "\n",
    "   - Turn in the code and analysis of dataset. What ever you chose to do either frequent pattern mining or clustering, find the results along with outliers anaysis if there are any in the data. Explain the results.\n"
   ]
  }
 ],
 "metadata": {
  "kernelspec": {
   "display_name": "Python 3",
   "language": "python",
   "name": "python3"
  },
  "language_info": {
   "codemirror_mode": {
    "name": "ipython",
    "version": 3
   },
   "file_extension": ".py",
   "mimetype": "text/x-python",
   "name": "python",
   "nbconvert_exporter": "python",
   "pygments_lexer": "ipython3",
   "version": "3.4.5"
  }
 },
 "nbformat": 4,
 "nbformat_minor": 1
}
