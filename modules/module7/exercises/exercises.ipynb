{
 "cells": [
  {
   "cell_type": "markdown",
   "metadata": {},
   "source": [
    "## Module 7 Exercises\n",
    "\n",
    "The exercises in this notebook focus on the ontologies discussed in [Module-7.ipynb](../Module-7.ipynb). Find the most commonly occuring words in the book. "
   ]
  },
  {
   "cell_type": "markdown",
   "metadata": {},
   "source": [
    "**Activity 1: ** Load the book data into a dataframe called book_data. Add a column called \"source\" to store the filename to which the line of text belongs.\n",
    "\n",
    "**Hint:**  Read each file data and and create lists of lines and filename and convert this lists into dataframe."
   ]
  },
  {
   "cell_type": "code",
   "execution_count": 1,
   "metadata": {
    "collapsed": false
   },
   "outputs": [],
   "source": [
    "## Your code for activity 1 goes here..\n",
    "library(foreign)\n",
    "setwd(\"/dsa/home/souleymanesaleya/sp17DMIR_souleymanesaleya/datasets/book\")\n",
    "files <-list.files()\n",
    "data <- 0\n",
    "names <- 0\n",
    "for (f in files)\n",
    "{\n",
    "tempData = scan(f,what=\"character\",sep=\"\\n\",)\n",
    "data <-c(data,tempData)\n",
    "source <-replicate(length(tempData),basename(f))\n",
    "names<-c(names,source)\n",
    "}\n",
    "data=as.data.frame(cbind(data,names))\n"
   ]
  },
  {
   "cell_type": "code",
   "execution_count": 2,
   "metadata": {
    "collapsed": false,
    "scrolled": true
   },
   "outputs": [
    {
     "data": {
      "text/html": [
       "<table>\n",
       "<thead><tr><th scope=col>data</th><th scope=col>names</th></tr></thead>\n",
       "<tbody>\n",
       "\t<tr><td>0</td><td>0</td></tr>\n",
       "\t<tr><td>FIRST CHRONICLES</td><td>1chron.txt      </td></tr>\n",
       "\t<tr><td>1:1: Adam, Sheth, Enosh,</td><td>1chron.txt              </td></tr>\n",
       "\t<tr><td>1:2: Kenan, Mahalaleel, Jered, </td><td>1chron.txt                     </td></tr>\n",
       "\t<tr><td>1:3: Henoch, Methuselah, Lamech,</td><td>1chron.txt                      </td></tr>\n",
       "\t<tr><td>1:4: Noah, Shem, Ham, and Japheth. </td><td>1chron.txt                         </td></tr>\n",
       "</tbody>\n",
       "</table>\n"
      ],
      "text/latex": [
       "\\begin{tabular}{r|ll}\n",
       " data & names\\\\\n",
       "\\hline\n",
       "\t 0 & 0\\\\\n",
       "\t FIRST CHRONICLES & 1chron.txt      \\\\\n",
       "\t 1:1: Adam, Sheth, Enosh, & 1chron.txt              \\\\\n",
       "\t 1:2: Kenan, Mahalaleel, Jered,  & 1chron.txt                     \\\\\n",
       "\t 1:3: Henoch, Methuselah, Lamech, & 1chron.txt                      \\\\\n",
       "\t 1:4: Noah, Shem, Ham, and Japheth.  & 1chron.txt                         \\\\\n",
       "\\end{tabular}\n"
      ],
      "text/plain": [
       "  data                                names     \n",
       "1 0                                   0         \n",
       "2 FIRST CHRONICLES                    1chron.txt\n",
       "3 1:1: Adam, Sheth, Enosh,            1chron.txt\n",
       "4 1:2: Kenan, Mahalaleel, Jered,      1chron.txt\n",
       "5 1:3: Henoch, Methuselah, Lamech,    1chron.txt\n",
       "6 1:4: Noah, Shem, Ham, and Japheth.  1chron.txt"
      ]
     },
     "metadata": {},
     "output_type": "display_data"
    }
   ],
   "source": [
    "head(data)\n"
   ]
  },
  {
   "cell_type": "markdown",
   "metadata": {},
   "source": [
    "**Activity 2: ** Rename the two columns of book_data dataframe as \"line\" and \"source\""
   ]
  },
  {
   "cell_type": "code",
   "execution_count": 3,
   "metadata": {
    "collapsed": false
   },
   "outputs": [
    {
     "data": {
      "text/html": [
       "<table>\n",
       "<thead><tr><th scope=col>line</th><th scope=col>source</th></tr></thead>\n",
       "<tbody>\n",
       "\t<tr><td>0</td><td>0</td></tr>\n",
       "\t<tr><td>FIRST CHRONICLES</td><td>1chron.txt      </td></tr>\n",
       "\t<tr><td>1:1: Adam, Sheth, Enosh,</td><td>1chron.txt              </td></tr>\n",
       "\t<tr><td>1:2: Kenan, Mahalaleel, Jered, </td><td>1chron.txt                     </td></tr>\n",
       "\t<tr><td>1:3: Henoch, Methuselah, Lamech,</td><td>1chron.txt                      </td></tr>\n",
       "\t<tr><td>1:4: Noah, Shem, Ham, and Japheth. </td><td>1chron.txt                         </td></tr>\n",
       "</tbody>\n",
       "</table>\n"
      ],
      "text/latex": [
       "\\begin{tabular}{r|ll}\n",
       " line & source\\\\\n",
       "\\hline\n",
       "\t 0 & 0\\\\\n",
       "\t FIRST CHRONICLES & 1chron.txt      \\\\\n",
       "\t 1:1: Adam, Sheth, Enosh, & 1chron.txt              \\\\\n",
       "\t 1:2: Kenan, Mahalaleel, Jered,  & 1chron.txt                     \\\\\n",
       "\t 1:3: Henoch, Methuselah, Lamech, & 1chron.txt                      \\\\\n",
       "\t 1:4: Noah, Shem, Ham, and Japheth.  & 1chron.txt                         \\\\\n",
       "\\end{tabular}\n"
      ],
      "text/plain": [
       "  line                                source    \n",
       "1 0                                   0         \n",
       "2 FIRST CHRONICLES                    1chron.txt\n",
       "3 1:1: Adam, Sheth, Enosh,            1chron.txt\n",
       "4 1:2: Kenan, Mahalaleel, Jered,      1chron.txt\n",
       "5 1:3: Henoch, Methuselah, Lamech,    1chron.txt\n",
       "6 1:4: Noah, Shem, Ham, and Japheth.  1chron.txt"
      ]
     },
     "metadata": {},
     "output_type": "display_data"
    }
   ],
   "source": [
    "## Your code for activity 2 goes here..\n",
    "library(plyr)\n",
    "data <- rename(data,c('data'='line','names'='source'))\n",
    "head(data)"
   ]
  },
  {
   "cell_type": "markdown",
   "metadata": {},
   "source": [
    "**Activity 3: ** Remove the chapter and line numbers in front of each line of text including special characters (for example, 1:1: or 1:2: etc)."
   ]
  },
  {
   "cell_type": "code",
   "execution_count": 4,
   "metadata": {
    "collapsed": false
   },
   "outputs": [
    {
     "data": {
      "text/html": [
       "<table>\n",
       "<thead><tr><th scope=col>line</th><th scope=col>source</th></tr></thead>\n",
       "<tbody>\n",
       "\t<tr><td>0                              </td><td>0                              </td></tr>\n",
       "\t<tr><td>FIRST CHRONICLES               </td><td>1chron.txt                     </td></tr>\n",
       "\t<tr><td> Adam, Sheth, Enosh,           </td><td>1chron.txt                     </td></tr>\n",
       "\t<tr><td> Kenan, Mahalaleel, Jered,     </td><td>1chron.txt                     </td></tr>\n",
       "\t<tr><td> Henoch, Methuselah, Lamech,   </td><td>1chron.txt                     </td></tr>\n",
       "\t<tr><td> Noah, Shem, Ham, and Japheth. </td><td>1chron.txt                     </td></tr>\n",
       "</tbody>\n",
       "</table>\n"
      ],
      "text/latex": [
       "\\begin{tabular}{r|ll}\n",
       " line & source\\\\\n",
       "\\hline\n",
       "\t 0                               & 0                              \\\\\n",
       "\t FIRST CHRONICLES                & 1chron.txt                     \\\\\n",
       "\t  Adam, Sheth, Enosh,            & 1chron.txt                     \\\\\n",
       "\t  Kenan, Mahalaleel, Jered,      & 1chron.txt                     \\\\\n",
       "\t  Henoch, Methuselah, Lamech,    & 1chron.txt                     \\\\\n",
       "\t  Noah, Shem, Ham, and Japheth.  & 1chron.txt                     \\\\\n",
       "\\end{tabular}\n"
      ],
      "text/plain": [
       "  line                            source    \n",
       "1 0                               0         \n",
       "2 FIRST CHRONICLES                1chron.txt\n",
       "3  Adam, Sheth, Enosh,            1chron.txt\n",
       "4  Kenan, Mahalaleel, Jered,      1chron.txt\n",
       "5  Henoch, Methuselah, Lamech,    1chron.txt\n",
       "6  Noah, Shem, Ham, and Japheth.  1chron.txt"
      ]
     },
     "metadata": {},
     "output_type": "display_data"
    }
   ],
   "source": [
    "## Your code for activity 3 goes here..\n",
    "data$line<-sub('([1-9][:][1-9][:])','', data$line)\n",
    "head(data)"
   ]
  },
  {
   "cell_type": "markdown",
   "metadata": {},
   "source": [
    "**Activity 4: ** create a new dataframe called book_words to count the occurance of each word in the books and also total words in the book."
   ]
  },
  {
   "cell_type": "code",
   "execution_count": 5,
   "metadata": {
    "collapsed": false
   },
   "outputs": [
    {
     "name": "stderr",
     "output_type": "stream",
     "text": [
      "\n",
      "Attaching package: ‘dplyr’\n",
      "\n",
      "The following objects are masked from ‘package:plyr’:\n",
      "\n",
      "    arrange, count, desc, failwith, id, mutate, rename, summarise,\n",
      "    summarize\n",
      "\n",
      "The following objects are masked from ‘package:stats’:\n",
      "\n",
      "    filter, lag\n",
      "\n",
      "The following objects are masked from ‘package:base’:\n",
      "\n",
      "    intersect, setdiff, setequal, union\n",
      "\n"
     ]
    }
   ],
   "source": [
    "library(dplyr)\n",
    "library(janeaustenr)\n",
    "library(tidytext)"
   ]
  },
  {
   "cell_type": "code",
   "execution_count": 6,
   "metadata": {
    "collapsed": true
   },
   "outputs": [],
   "source": [
    "data$line<-as.character(data$line)\n",
    "data$source<-as.character(data$source)\n",
    " "
   ]
  },
  {
   "cell_type": "code",
   "execution_count": 7,
   "metadata": {
    "collapsed": false
   },
   "outputs": [
    {
     "data": {
      "text/html": [
       "<table>\n",
       "<thead><tr><th scope=col>source</th><th scope=col>word</th><th scope=col>n</th></tr></thead>\n",
       "<tbody>\n",
       "\t<tr><td>jeremiah.txt</td><td>the         </td><td>3839        </td></tr>\n",
       "\t<tr><td>genesis.txt </td><td>and         </td><td>3678        </td></tr>\n",
       "\t<tr><td>ezekiel.txt </td><td>the         </td><td>3609        </td></tr>\n",
       "\t<tr><td>numbers.txt </td><td>the         </td><td>3501        </td></tr>\n",
       "\t<tr><td>exodus.txt  </td><td>the         </td><td>3114        </td></tr>\n",
       "\t<tr><td>isaiah.txt  </td><td>the         </td><td>3017        </td></tr>\n",
       "</tbody>\n",
       "</table>\n"
      ],
      "text/latex": [
       "\\begin{tabular}{r|lll}\n",
       " source & word & n\\\\\n",
       "\\hline\n",
       "\t jeremiah.txt & the          & 3839        \\\\\n",
       "\t genesis.txt  & and          & 3678        \\\\\n",
       "\t ezekiel.txt  & the          & 3609        \\\\\n",
       "\t numbers.txt  & the          & 3501        \\\\\n",
       "\t exodus.txt   & the          & 3114        \\\\\n",
       "\t isaiah.txt   & the          & 3017        \\\\\n",
       "\\end{tabular}\n"
      ],
      "text/plain": [
       "  source       word n   \n",
       "1 jeremiah.txt the  3839\n",
       "2 genesis.txt  and  3678\n",
       "3 ezekiel.txt  the  3609\n",
       "4 numbers.txt  the  3501\n",
       "5 exodus.txt   the  3114\n",
       "6 isaiah.txt   the  3017"
      ]
     },
     "metadata": {},
     "output_type": "display_data"
    }
   ],
   "source": [
    "## Your code for activity 4 goes here..\n",
    "book_words <- data %>% \n",
    "unnest_tokens(word,line) %>%\n",
    "count(source,word,sort = TRUE) %>%\n",
    "ungroup()\n",
    "head(book_words)\n"
   ]
  },
  {
   "cell_type": "code",
   "execution_count": 8,
   "metadata": {
    "collapsed": false
   },
   "outputs": [
    {
     "data": {
      "text/html": [
       "<table>\n",
       "<thead><tr><th scope=col>source</th><th scope=col>total</th></tr></thead>\n",
       "<tbody>\n",
       "\t<tr><td>0           </td><td>    1       </td></tr>\n",
       "\t<tr><td>1chron.txt  </td><td>22001       </td></tr>\n",
       "\t<tr><td>1corinth.txt</td><td>10122       </td></tr>\n",
       "\t<tr><td>1john.txt   </td><td> 2639       </td></tr>\n",
       "\t<tr><td>1kings.txt  </td><td>25936       </td></tr>\n",
       "\t<tr><td>1peter.txt  </td><td> 2598       </td></tr>\n",
       "</tbody>\n",
       "</table>\n"
      ],
      "text/latex": [
       "\\begin{tabular}{r|ll}\n",
       " source & total\\\\\n",
       "\\hline\n",
       "\t 0            &     1       \\\\\n",
       "\t 1chron.txt   & 22001       \\\\\n",
       "\t 1corinth.txt & 10122       \\\\\n",
       "\t 1john.txt    &  2639       \\\\\n",
       "\t 1kings.txt   & 25936       \\\\\n",
       "\t 1peter.txt   &  2598       \\\\\n",
       "\\end{tabular}\n"
      ],
      "text/plain": [
       "  source       total\n",
       "1 0                1\n",
       "2 1chron.txt   22001\n",
       "3 1corinth.txt 10122\n",
       "4 1john.txt     2639\n",
       "5 1kings.txt   25936\n",
       "6 1peter.txt    2598"
      ]
     },
     "metadata": {},
     "output_type": "display_data"
    }
   ],
   "source": [
    "total_words<-book_words %>% \n",
    "  group_by(source) %>% \n",
    "  summarize(total = sum(n))\n",
    "head(total_words)"
   ]
  },
  {
   "cell_type": "code",
   "execution_count": 9,
   "metadata": {
    "collapsed": false
   },
   "outputs": [
    {
     "name": "stderr",
     "output_type": "stream",
     "text": [
      "Joining, by = \"source\"\n"
     ]
    },
    {
     "data": {
      "text/html": [
       "<table>\n",
       "<thead><tr><th scope=col>source</th><th scope=col>word</th><th scope=col>n</th><th scope=col>total</th></tr></thead>\n",
       "<tbody>\n",
       "\t<tr><td>jeremiah.txt</td><td>the         </td><td>3839        </td><td>44922       </td></tr>\n",
       "\t<tr><td>genesis.txt </td><td>and         </td><td>3678        </td><td>40894       </td></tr>\n",
       "\t<tr><td>ezekiel.txt </td><td>the         </td><td>3609        </td><td>41513       </td></tr>\n",
       "\t<tr><td>numbers.txt </td><td>the         </td><td>3501        </td><td>35135       </td></tr>\n",
       "\t<tr><td>exodus.txt  </td><td>the         </td><td>3114        </td><td>34719       </td></tr>\n",
       "\t<tr><td>isaiah.txt  </td><td>the         </td><td>3017        </td><td>39027       </td></tr>\n",
       "</tbody>\n",
       "</table>\n"
      ],
      "text/latex": [
       "\\begin{tabular}{r|llll}\n",
       " source & word & n & total\\\\\n",
       "\\hline\n",
       "\t jeremiah.txt & the          & 3839         & 44922       \\\\\n",
       "\t genesis.txt  & and          & 3678         & 40894       \\\\\n",
       "\t ezekiel.txt  & the          & 3609         & 41513       \\\\\n",
       "\t numbers.txt  & the          & 3501         & 35135       \\\\\n",
       "\t exodus.txt   & the          & 3114         & 34719       \\\\\n",
       "\t isaiah.txt   & the          & 3017         & 39027       \\\\\n",
       "\\end{tabular}\n"
      ],
      "text/plain": [
       "  source       word n    total\n",
       "1 jeremiah.txt the  3839 44922\n",
       "2 genesis.txt  and  3678 40894\n",
       "3 ezekiel.txt  the  3609 41513\n",
       "4 numbers.txt  the  3501 35135\n",
       "5 exodus.txt   the  3114 34719\n",
       "6 isaiah.txt   the  3017 39027"
      ]
     },
     "metadata": {},
     "output_type": "display_data"
    }
   ],
   "source": [
    "book_words <- left_join(book_words, total_words)\n",
    "\n",
    "head(book_words)"
   ]
  },
  {
   "cell_type": "markdown",
   "metadata": {},
   "source": [
    "**Activity 5: ** Use the bind_tf_idf() function to find tf-idf scores of each word occuring in the books. "
   ]
  },
  {
   "cell_type": "code",
   "execution_count": 10,
   "metadata": {
    "collapsed": false
   },
   "outputs": [
    {
     "data": {
      "text/html": [
       "<table>\n",
       "<thead><tr><th scope=col>source</th><th scope=col>word</th><th scope=col>n</th><th scope=col>total</th><th scope=col>tf</th><th scope=col>idf</th><th scope=col>tf_idf</th></tr></thead>\n",
       "<tbody>\n",
       "\t<tr><td>jeremiah.txt</td><td>the         </td><td>3839        </td><td>44922       </td><td>0.08545924  </td><td>0.01503788  </td><td>0.001285126 </td></tr>\n",
       "\t<tr><td>genesis.txt </td><td>and         </td><td>3678        </td><td>40894       </td><td>0.08993984  </td><td>0.01503788  </td><td>0.001352504 </td></tr>\n",
       "\t<tr><td>ezekiel.txt </td><td>the         </td><td>3609        </td><td>41513       </td><td>0.08693662  </td><td>0.01503788  </td><td>0.001307342 </td></tr>\n",
       "\t<tr><td>numbers.txt </td><td>the         </td><td>3501        </td><td>35135       </td><td>0.09964423  </td><td>0.01503788  </td><td>0.001498438 </td></tr>\n",
       "\t<tr><td>exodus.txt  </td><td>the         </td><td>3114        </td><td>34719       </td><td>0.08969152  </td><td>0.01503788  </td><td>0.001348770 </td></tr>\n",
       "\t<tr><td>isaiah.txt  </td><td>the         </td><td>3017        </td><td>39027       </td><td>0.07730546  </td><td>0.01503788  </td><td>0.001162510 </td></tr>\n",
       "</tbody>\n",
       "</table>\n"
      ],
      "text/latex": [
       "\\begin{tabular}{r|lllllll}\n",
       " source & word & n & total & tf & idf & tf\\_idf\\\\\n",
       "\\hline\n",
       "\t jeremiah.txt & the          & 3839         & 44922        & 0.08545924   & 0.01503788   & 0.001285126 \\\\\n",
       "\t genesis.txt  & and          & 3678         & 40894        & 0.08993984   & 0.01503788   & 0.001352504 \\\\\n",
       "\t ezekiel.txt  & the          & 3609         & 41513        & 0.08693662   & 0.01503788   & 0.001307342 \\\\\n",
       "\t numbers.txt  & the          & 3501         & 35135        & 0.09964423   & 0.01503788   & 0.001498438 \\\\\n",
       "\t exodus.txt   & the          & 3114         & 34719        & 0.08969152   & 0.01503788   & 0.001348770 \\\\\n",
       "\t isaiah.txt   & the          & 3017         & 39027        & 0.07730546   & 0.01503788   & 0.001162510 \\\\\n",
       "\\end{tabular}\n"
      ],
      "text/plain": [
       "  source       word n    total tf         idf        tf_idf     \n",
       "1 jeremiah.txt the  3839 44922 0.08545924 0.01503788 0.001285126\n",
       "2 genesis.txt  and  3678 40894 0.08993984 0.01503788 0.001352504\n",
       "3 ezekiel.txt  the  3609 41513 0.08693662 0.01503788 0.001307342\n",
       "4 numbers.txt  the  3501 35135 0.09964423 0.01503788 0.001498438\n",
       "5 exodus.txt   the  3114 34719 0.08969152 0.01503788 0.001348770\n",
       "6 isaiah.txt   the  3017 39027 0.07730546 0.01503788 0.001162510"
      ]
     },
     "metadata": {},
     "output_type": "display_data"
    }
   ],
   "source": [
    "## Your code for activity 5 goes here..\n",
    "book_words <- book_words %>%\n",
    "  bind_tf_idf(word, source, n)\n",
    "head(book_words)\n"
   ]
  },
  {
   "cell_type": "markdown",
   "metadata": {},
   "source": [
    "**Activity 6: ** Plot the top 20 words occured in the whole dataset. "
   ]
  },
  {
   "cell_type": "code",
   "execution_count": 11,
   "metadata": {
    "collapsed": false
   },
   "outputs": [
    {
     "data": {
      "text/html": [
       "<table>\n",
       "<thead><tr><th scope=col>source</th><th scope=col>word</th><th scope=col>n</th><th scope=col>tf</th><th scope=col>idf</th><th scope=col>tf_idf</th></tr></thead>\n",
       "<tbody>\n",
       "\t<tr><td>0          </td><td>0          </td><td> 1         </td><td>1.000000000</td><td>4.204693   </td><td>4.20469262 </td></tr>\n",
       "\t<tr><td>jonah.txt  </td><td>jonah      </td><td>19         </td><td>0.014126394</td><td>3.511545   </td><td>0.04960547 </td></tr>\n",
       "\t<tr><td>esther.txt </td><td>esther     </td><td>54         </td><td>0.009305532</td><td>4.204693   </td><td>0.03912690 </td></tr>\n",
       "\t<tr><td>esther.txt </td><td>haman      </td><td>50         </td><td>0.008616233</td><td>4.204693   </td><td>0.03622861 </td></tr>\n",
       "\t<tr><td>ruth.txt   </td><td>naomi      </td><td>20         </td><td>0.007485030</td><td>4.204693   </td><td>0.03147225 </td></tr>\n",
       "\t<tr><td>haggai.txt </td><td>haggai     </td><td>10         </td><td>0.008539710</td><td>3.511545   </td><td>0.02998758 </td></tr>\n",
       "</tbody>\n",
       "</table>\n"
      ],
      "text/latex": [
       "\\begin{tabular}{r|llllll}\n",
       " source & word & n & tf & idf & tf\\_idf\\\\\n",
       "\\hline\n",
       "\t 0           & 0           &  1          & 1.000000000 & 4.204693    & 4.20469262 \\\\\n",
       "\t jonah.txt   & jonah       & 19          & 0.014126394 & 3.511545    & 0.04960547 \\\\\n",
       "\t esther.txt  & esther      & 54          & 0.009305532 & 4.204693    & 0.03912690 \\\\\n",
       "\t esther.txt  & haman       & 50          & 0.008616233 & 4.204693    & 0.03622861 \\\\\n",
       "\t ruth.txt    & naomi       & 20          & 0.007485030 & 4.204693    & 0.03147225 \\\\\n",
       "\t haggai.txt  & haggai      & 10          & 0.008539710 & 3.511545    & 0.02998758 \\\\\n",
       "\\end{tabular}\n"
      ],
      "text/plain": [
       "  source     word   n  tf          idf      tf_idf    \n",
       "1 0          0       1 1.000000000 4.204693 4.20469262\n",
       "2 jonah.txt  jonah  19 0.014126394 3.511545 0.04960547\n",
       "3 esther.txt esther 54 0.009305532 4.204693 0.03912690\n",
       "4 esther.txt haman  50 0.008616233 4.204693 0.03622861\n",
       "5 ruth.txt   naomi  20 0.007485030 4.204693 0.03147225\n",
       "6 haggai.txt haggai 10 0.008539710 3.511545 0.02998758"
      ]
     },
     "metadata": {},
     "output_type": "display_data"
    }
   ],
   "source": [
    "Arranged_words<-book_words %>%\n",
    "  select(-total) %>%\n",
    "  arrange(desc(tf_idf))\n",
    "head(Arranged_words)"
   ]
  },
  {
   "cell_type": "code",
   "execution_count": 14,
   "metadata": {
    "collapsed": false
   },
   "outputs": [
    {
     "name": "stderr",
     "output_type": "stream",
     "text": [
      "Selecting by tf_idf\n"
     ]
    },
    {
     "data": {},
     "metadata": {},
     "output_type": "display_data"
    },
    {
     "data": {
      "image/png": "[encoded data removed]",
      "text/plain": [
       "plot without title"
      ]
     },
     "metadata": {},
     "output_type": "display_data"
    }
   ],
   "source": [
    "\n",
    "plot_words<-book_words %>%\n",
    "  arrange(desc(tf_idf)) %>%\n",
    "  mutate(word = factor(word, levels = rev(unique(word))))\n",
    "\n",
    "plot_words  %>% \n",
    "  top_n(20) %>%\n",
    "  ggplot(aes(word, tf_idf, fill = source)) +\n",
    "  geom_col() +\n",
    "  labs(x = NULL, y = \"tf-idf\") +\n",
    "  coord_flip()"
   ]
  },
  {
   "cell_type": "code",
   "execution_count": null,
   "metadata": {
    "collapsed": true
   },
   "outputs": [],
   "source": []
  }
 ],
 "metadata": {
  "kernelspec": {
   "display_name": "R",
   "language": "R",
   "name": "ir"
  },
  "language_info": {
   "codemirror_mode": "r",
   "file_extension": ".r",
   "mimetype": "text/x-r-source",
   "name": "R",
   "pygments_lexer": "r",
   "version": "3.3.2"
  }
 },
 "nbformat": 4,
 "nbformat_minor": 2
}
