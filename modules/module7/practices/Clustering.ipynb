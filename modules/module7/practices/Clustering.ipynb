{
 "cells": [
  {
   "cell_type": "markdown",
   "metadata": {},
   "source": [
    "## Module 5 - Clustering Text Data Practice\n",
    "-----\n",
    "\n",
    "Perform clustering by analyzing the twenty newsgroup data set. Apply k-means and identify the most common tokens in each cluster.\n",
    "\n",
    "-----"
   ]
  },
  {
   "cell_type": "code",
   "execution_count": 1,
   "metadata": {
    "collapsed": true
   },
   "outputs": [],
   "source": [
    "# Split into training and testing\n",
    "from sklearn.datasets import fetch_20newsgroups\n",
    "\n",
    "train = fetch_20newsgroups(data_home='/dsa/data/DSA-8630/newsgroups/', subset='train', shuffle=True, random_state=23)\n",
    "test = fetch_20newsgroups(data_home='/dsa/data/DSA-8630/newsgroups/', subset='test', shuffle=True, random_state=23)"
   ]
  },
  {
   "cell_type": "code",
   "execution_count": 2,
   "metadata": {
    "collapsed": false
   },
   "outputs": [
    {
     "data": {
      "text/plain": [
       "KMeans(algorithm='auto', copy_x=True, init='k-means++', max_iter=100,\n",
       "    n_clusters=20, n_init=1, n_jobs=1, precompute_distances='auto',\n",
       "    random_state=None, tol=0.0001, verbose=0)"
      ]
     },
     "execution_count": 2,
     "metadata": {},
     "output_type": "execute_result"
    }
   ],
   "source": [
    "from sklearn.cluster import KMeans\n",
    "\n",
    "true_k = 20\n",
    "\n",
    "km = KMeans(n_clusters=true_k, init='k-means++', max_iter=100, n_init=1)\n",
    "\n",
    "from sklearn.feature_extraction.text import CountVectorizer\n",
    "\n",
    "# Verify attributes\n",
    "\n",
    "cv = CountVectorizer(stop_words = 'english', max_features=100000)\n",
    "train_counts = cv.fit_transform(train['data'])\n",
    "test_data = cv.transform(test['data'])\n",
    "\n",
    "km.fit(test_data)"
   ]
  },
  {
   "cell_type": "code",
   "execution_count": 3,
   "metadata": {
    "collapsed": false
   },
   "outputs": [
    {
     "name": "stdout",
     "output_type": "stream",
     "text": [
      "Top 20 tokens per cluster:\n",
      "\n",
      "Cluster 0: edu gopher com server xfree86 file search use ftp clients client directory mail faq information files mathematica pub available software\n",
      "\n",
      "Cluster 1: jpeg image gif file color format images quality version files bit free programs available use jfif software edu display don\n",
      "\n",
      "Cluster 2: scott frost color draw erase using cas gxcopy org objects redraw specified mode drawn erases requested abstracts underlying restores chemical\n",
      "\n",
      "Cluster 3: people right gun children don edu ed said just like vitamin government think drug time know israel does way say\n",
      "\n",
      "Cluster 4: slip com driver use packet phone dos file ip cwru goto echo windows qvtnet dial edu pktmux virtual net connection\n",
      "\n",
      "Cluster 5: image images bit gamma file larson want color program theory 24 universe make 24bit xv correction space data drive physical\n",
      "\n",
      "Cluster 6: myers ms president think don dee ll know said going decision does house white today believe justice just board department\n",
      "\n",
      "Cluster 7: dos windows microsoft tcp ms mouse amiga software pc graphics higher network macintosh mbytes version 00 ip memory support os\n",
      "\n",
      "Cluster 8: mb m4 ms mz ma mm mo m1 mu mc mh mw mp mt mj mk mx mf mn m3\n",
      "\n",
      "Cluster 9: edu people don writes like just article think com subject lines know organization god time way say good does university\n",
      "\n",
      "Cluster 10: jehovah elohim lord god christ father mcconkie unto son ps jesus said gods shall thou thee mormon thy earth stated\n",
      "\n",
      "Cluster 11: ftp free xview edu contact subject openwindows look notes com open commercial requirements description applications mit porter contrib export available\n",
      "\n",
      "Cluster 12: god paul jesus homosexuality people adl homosexual christ new earth love man christians does venus law planet word say time\n",
      "\n",
      "Cluster 13: 00 20 appears 40 art 50 80 10 wolverine 60 1st ghost rider hobgoblin man annual punisher appear sabretooth cover\n",
      "\n",
      "Cluster 14: edu subject lines com organization writes article posting university host nntp like just know don ca does new think distribution\n",
      "\n",
      "Cluster 15: said president mr think stephanopoulos know people don going did just general went didn door time started children say ll\n",
      "\n",
      "Cluster 16: 25 92 hiv cancer 12 11 health medical 1993 10 aids patients number april disease newsletter drug volume 17 page\n",
      "\n",
      "Cluster 17: openwindows use sun xview usr look x11 lib open subject file openwinhome window olit news programs openwin manual fonts bin\n",
      "\n",
      "Cluster 18: edu image graphics data pub ftp available mail software 128 images package send format ray 3d file files processing com\n",
      "\n",
      "Cluster 19: mac files disk comp file software sys macintosh ftp faq questions stuffit hard available need apple use question edu application\n",
      "\n"
     ]
    }
   ],
   "source": [
    "top_tokens = 20\n",
    "labels = test['target']\n",
    "\n",
    "print('Top {} tokens per cluster:\\n'.format(top_tokens))\n",
    "\n",
    "order_centroids = km.cluster_centers_.argsort()[:, ::-1]\n",
    "terms = cv.get_feature_names()\n",
    "\n",
    "for idx in range(true_k):\n",
    "    print(\"Cluster {0}:\".format(idx), end='')\n",
    "    for jdx in order_centroids[idx, :top_tokens]:\n",
    "        print(' {0}'.format(terms[jdx]), end='')\n",
    "    print('\\n')"
   ]
  }
 ],
 "metadata": {
  "kernelspec": {
   "display_name": "Python 3",
   "language": "python",
   "name": "python3"
  },
  "language_info": {
   "codemirror_mode": {
    "name": "ipython",
    "version": 3
   },
   "file_extension": ".py",
   "mimetype": "text/x-python",
   "name": "python",
   "nbconvert_exporter": "python",
   "pygments_lexer": "ipython3",
   "version": "3.4.5"
  }
 },
 "nbformat": 4,
 "nbformat_minor": 2
}
