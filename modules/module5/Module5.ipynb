{
 "cells": [
  {
   "cell_type": "markdown",
   "metadata": {},
   "source": [
    "# Module 5: Basic Information Retrieval\n",
    "\n",
    "\n",
    "### Overview of Information Retrieval (IR)\n",
    "![IR Models](./images/Information-Retrieval-Models.png)\n",
    "\n",
    "\n",
    "## Topics covered\n",
    "\n",
    "  * Documents collections and corpus\n",
    "  * Stemming and Lemmatization\n",
    "  * Basic Document Retrieval\n",
    "    * Bag of Words\n",
    "    * Vector Space Models\n",
    "  * Inverted Files\n",
    "  * Topic Vector Models\n",
    " \n",
    "\n",
    "\n",
    "## Readings\n",
    "The following is the suggested reading for above topic.\n",
    "\n",
    "  * [Stemming](https://en.wikipedia.org/wiki/Stemming)\n",
    "  * [Lemmatization](https://en.wikipedia.org/wiki/Lemmatisation)\n",
    "  * [Bag of Words](https://en.wikipedia.org/wiki/Bag-of-words_model)\n",
    "  * [Vector Space Models](https://en.wikipedia.org/wiki/Vector_space_model)   \n",
    "     versus \n",
    "  * [Inverted Files](https://en.wikipedia.org/wiki/Inverted_index)\n",
    "  * [Topic-based](https://en.wikipedia.org/wiki/Topic-based_vector_space_model)\n",
    "  \n",
    "\n"
   ]
  },
  {
   "cell_type": "markdown",
   "metadata": {},
   "source": [
    "## Video topics (in Canvas)\n",
    "  - **Concept Video**:  Basic Information Retrieval\n",
    "  - **Concept Video**:  Vector Models\n",
    "  - **Concept Video**:  Inverted File  \n",
    "  \n",
    "## Labs\n",
    "  * [Full Text Search, PostgreSQL](./labs/IR_with_PostgreSQL_full_text_search.ipynb)\n",
    "  * [Full Text Search, Python](./labs/IR_with_Python_Whoosh.ipynb)\n",
    "\n",
    "## Practice Examples  \n",
    "  - [Practice PostgreSQL Text Queries](./practices/Practice_PostgreSQL_text_search.ipynb)\n",
    "  - [Practice Python Text Search](./practices/Practice_Python_text_search.ipynb)\n",
    "  \n",
    "\n",
    "## Exercises\n",
    "  - [Exercises_](./Exercises/Exercises_Python_text_search.ipynb)\n",
    "  \n"
   ]
  },
  {
   "cell_type": "markdown",
   "metadata": {},
   "source": [
    "## Data Sets\n",
    "Path: `/dsa/data/DSA-8630/`\n",
    "\n",
    "Dataset Name                 | Files\n",
    "-----------------------------|------------\n",
    "~/datasets/book              | book/*.txt\n",
    "\n",
    "\n",
    "\n",
    "### Monday\n",
    "  - **Concept Video**:  Basic Information Retrieval\n",
    "  - **Concept Video**:  Vector Models\n",
    "  - **Concept Video**:  Inverted File\n",
    "  \n",
    "   \n",
    "  - **Lab Notebooks**: \n",
    "     1. Full Text Search, PostgreSQL\n",
    "     1. Full Text Search, Python\n",
    "     \n",
    "     \n",
    "  - **Practice Notebooks**: \n",
    "     1. Practice Python Text Search\n",
    "\n",
    "\n",
    "### Wednesday\n",
    "  - Discussion - Full text search integrated analytics  \n",
    "  - Release Practice answers\n",
    "  - **Exercise **: Python Text Search\n",
    "\n",
    "### Thursday\n",
    "  - Discussion Responses\n",
    "\n",
    "### Saturday\n",
    "  - Discussion question responses close\n",
    "\n",
    "\n",
    "### Next Wednesday \n",
    "  - Exercise due.\n",
    "   \n"
   ]
  },
  {
   "cell_type": "code",
   "execution_count": null,
   "metadata": {
    "collapsed": true
   },
   "outputs": [],
   "source": []
  }
 ],
 "metadata": {
  "kernelspec": {
   "display_name": "Python 3",
   "language": "python",
   "name": "python3"
  },
  "language_info": {
   "codemirror_mode": {
    "name": "ipython",
    "version": 3
   },
   "file_extension": ".py",
   "mimetype": "text/x-python",
   "name": "python",
   "nbconvert_exporter": "python",
   "pygments_lexer": "ipython3",
   "version": "3.4.5"
  }
 },
 "nbformat": 4,
 "nbformat_minor": 1
}
